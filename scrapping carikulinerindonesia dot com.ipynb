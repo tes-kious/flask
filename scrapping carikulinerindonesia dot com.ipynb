{
  "nbformat": 4,
  "nbformat_minor": 0,
  "metadata": {
    "colab": {
      "provenance": [],
      "authorship_tag": "ABX9TyMZWwBW++jej84MuXUvHjB3",
      "include_colab_link": true
    },
    "kernelspec": {
      "name": "python3",
      "display_name": "Python 3"
    },
    "language_info": {
      "name": "python"
    }
  },
  "cells": [
    {
      "cell_type": "markdown",
      "metadata": {
        "id": "view-in-github",
        "colab_type": "text"
      },
      "source": [
        "<a href=\"https://colab.research.google.com/github/tes-kious/flask/blob/main/scrapping%20carikulinerindonesia%20dot%20com.ipynb\" target=\"_parent\"><img src=\"https://colab.research.google.com/assets/colab-badge.svg\" alt=\"Open In Colab\"/></a>"
      ]
    },
    {
      "cell_type": "code",
      "execution_count": 1,
      "metadata": {
        "id": "eedgTOrQut2y"
      },
      "outputs": [],
      "source": [
        "import requests\n",
        "from bs4 import BeautifulSoup"
      ]
    },
    {
      "cell_type": "code",
      "source": [
        "url = 'http://www.carikulinerindonesia.com'\n",
        "\n",
        "# Mengirim permintaan HTTP GET ke URL\n",
        "response = requests.get(url)\n"
      ],
      "metadata": {
        "id": "SWpzR0sbzUXc"
      },
      "execution_count": 4,
      "outputs": []
    },
    {
      "cell_type": "code",
      "source": [
        "pip install cloudscraper"
      ],
      "metadata": {
        "colab": {
          "base_uri": "https://localhost:8080/"
        },
        "id": "kmdp3shJ1Oyv",
        "outputId": "e3b5b1c9-3eef-4e17-f7a0-00bc0d5ab17a"
      },
      "execution_count": 8,
      "outputs": [
        {
          "output_type": "stream",
          "name": "stdout",
          "text": [
            "Collecting cloudscraper\n",
            "  Downloading cloudscraper-1.2.71-py2.py3-none-any.whl (99 kB)\n",
            "\u001b[?25l     \u001b[90m━━━━━━━━━━━━━━━━━━━━━━━━━━━━━━━━━━━━━━━━\u001b[0m \u001b[32m0.0/99.7 kB\u001b[0m \u001b[31m?\u001b[0m eta \u001b[36m-:--:--\u001b[0m\r\u001b[2K     \u001b[91m━━━━━━━━━━━━━━━━━━━━━━━━━━━━━━━━━━━━\u001b[0m\u001b[91m╸\u001b[0m\u001b[90m━━━\u001b[0m \u001b[32m92.2/99.7 kB\u001b[0m \u001b[31m3.1 MB/s\u001b[0m eta \u001b[36m0:00:01\u001b[0m\r\u001b[2K     \u001b[90m━━━━━━━━━━━━━━━━━━━━━━━━━━━━━━━━━━━━━━━━\u001b[0m \u001b[32m99.7/99.7 kB\u001b[0m \u001b[31m2.7 MB/s\u001b[0m eta \u001b[36m0:00:00\u001b[0m\n",
            "\u001b[?25hRequirement already satisfied: pyparsing>=2.4.7 in /usr/local/lib/python3.10/dist-packages (from cloudscraper) (3.1.1)\n",
            "Requirement already satisfied: requests>=2.9.2 in /usr/local/lib/python3.10/dist-packages (from cloudscraper) (2.31.0)\n",
            "Collecting requests-toolbelt>=0.9.1 (from cloudscraper)\n",
            "  Downloading requests_toolbelt-1.0.0-py2.py3-none-any.whl (54 kB)\n",
            "\u001b[2K     \u001b[90m━━━━━━━━━━━━━━━━━━━━━━━━━━━━━━━━━━━━━━━━\u001b[0m \u001b[32m54.5/54.5 kB\u001b[0m \u001b[31m7.0 MB/s\u001b[0m eta \u001b[36m0:00:00\u001b[0m\n",
            "\u001b[?25hRequirement already satisfied: charset-normalizer<4,>=2 in /usr/local/lib/python3.10/dist-packages (from requests>=2.9.2->cloudscraper) (3.2.0)\n",
            "Requirement already satisfied: idna<4,>=2.5 in /usr/local/lib/python3.10/dist-packages (from requests>=2.9.2->cloudscraper) (3.4)\n",
            "Requirement already satisfied: urllib3<3,>=1.21.1 in /usr/local/lib/python3.10/dist-packages (from requests>=2.9.2->cloudscraper) (2.0.4)\n",
            "Requirement already satisfied: certifi>=2017.4.17 in /usr/local/lib/python3.10/dist-packages (from requests>=2.9.2->cloudscraper) (2023.7.22)\n",
            "Installing collected packages: requests-toolbelt, cloudscraper\n",
            "Successfully installed cloudscraper-1.2.71 requests-toolbelt-1.0.0\n"
          ]
        }
      ]
    },
    {
      "cell_type": "code",
      "source": [
        "import cloudscraper\n",
        "\n",
        "scraper = cloudscraper.create_scraper()\n",
        "response = scraper.get(\"http://www.carikulinerindonesia.com\")"
      ],
      "metadata": {
        "id": "gcpl9S79z5aj"
      },
      "execution_count": 9,
      "outputs": []
    },
    {
      "cell_type": "code",
      "source": [
        "response.content"
      ],
      "metadata": {
        "colab": {
          "base_uri": "https://localhost:8080/"
        },
        "id": "wM6IK3SO2BZz",
        "outputId": "8a7e0944-6307-44d7-d287-c67074e77264"
      },
      "execution_count": 11,
      "outputs": [
        {
          "output_type": "execute_result",
          "data": {
            "text/plain": [
              "b'<!DOCTYPE html><html lang=\"id\"><head><meta charset=\"utf-8\"><meta name=\"viewport\" content=\"width=device-width, initial-scale=1\"><title>CariKulinerIndonesia.com : Menyediakan Info Tentang Berbagai Macam Kuliner Nusantara Terlengkap Di Indonesia - Cari Kuliner Indonesia</title><meta name=\"description\" content=\"Cari Kuliner Indonesia Merupakan Tempat yang menyediakan info tentang berbagai macam Kuliner Yang Ada Di Indonesia dari yang terlaris sampai termurah berdasarkan kota maupun kategori\" /><meta name=\"twitter:card\" content=\"summary\" /><meta name=\"twitter:description\" content=\"Cari Kuliner Indonesia Merupakan Tempat yang menyediakan info tentang berbagai macam Kuliner Yang Ada Di Indonesia dari yang terlaris sampai termurah berdasarkan kota maupun kategori\" /><meta name=\"twitter:image\" content=\"https://www.carikulinerindonesia.com/images/logo.png\" /><meta property=\"og:type\" content=\"website\" /><meta property=\"og:url\" content=\"https://www.carikulinerindonesia.com/\" /><meta property=\"og:title\" content=\"Cari Kuliner Indonesia Merupakan Tempat yang menyediakan info tentang berbagai macam Kuliner Yang Ada Di Indonesia dari yang terlaris sampai termurah berdasarkan kota maupun kategori\" /><meta property=\"og:description\" content=\"Cari Kuliner Indonesia Merupakan Tempat yang menyediakan info tentang berbagai macam Kuliner Yang Ada Di Indonesia dari yang terlaris sampai termurah berdasarkan kota maupun kategori\" /><meta property=\"og:image\" content=\"https://www.carikulinerindonesia.com/images/logo.png\" /><meta name=\"viewport\" content=\"width=device-width, initial-scale=1\"><meta name=\"robots\" content=\"index, follow\" /><meta name=\"googlebot\" content=\"index, follow\" /><meta content=\"Cari Kuliner Indonesia Merupakan Tempat yang menyediakan info tentang berbagai macam Kuliner Yang Ada Di Indonesia dari yang terlaris sampai termurah berdasarkan kota maupun kategori\" /><meta name=\"keywords\" content=\"info kuliner, kuliner indonesia, makanan indonesia, masakan indonesia,\" itemprop=\"keywords\" /><meta name=\"_mg-domain-verification\" content=\"40de087888ff4659f590aab7806bd4e7\" /><link rel=\"stylesheet\" href=\"https://fonts.googleapis.com/css?family=Source+Sans+Pro:300,400,400i,700&display=fallback\"><link rel=\"stylesheet\" href=\"https://cdnjs.cloudflare.com/ajax/libs/font-awesome/6.2.1/css/all.min.css\"><link rel=\"stylesheet\" href=\"https://cdnjs.cloudflare.com/ajax/libs/admin-lte/3.2.0/css/adminlte.min.css\"><link rel=\"apple-touch-icon\" sizes=\"180x180\" href=\"https://www.carikulinerindonesia.com/images/favicon/apple-touch-icon.png\"><link rel=\"icon\" type=\"image/png\" sizes=\"32x32\" href=\"https://www.carikulinerindonesia.com/images/favicon/favicon-32x32.png\"><link rel=\"icon\" type=\"image/png\" sizes=\"16x16\" href=\"https://www.carikulinerindonesia.com/images/favicon/favicon-16x16.png\"><link rel=\"manifest\" href=\"https://www.carikulinerindonesia.com/images/favicon/site.webmanifest\"><link rel=\"canonical\" href=\"https://www.carikulinerindonesia.com/\" /><script async src=\"https://www.googletagmanager.com/gtag/js?id=UA-150659881-1\"></script><script> window.dataLayer = window.dataLayer || []; function gtag(){dataLayer.push(arguments);} gtag(\\'js\\', new Date()); gtag(\\'config\\', \\'UA-150659881-1\\');</script><script type=\"application/ld+json\">{\"@context\":\"https://schema.org\",\"@type\":\"WebSite\",\"url\":\"https://www.carikulinerindonesia.com\"}</script><script type=\"application/ld+json\">{\"@context\":\"https://schema.org\",\"@type\":\"Organization\",\"name\":\"carikulinerindonesia\",\"url\":\"https://www.carikulinerindonesia.com\",\"logo\":\"https://www.carikulinerindonesia.com/images/logo.png\"}</script><style>.card{border:none;background:#eee}.search{width:100%;margin-bottom:auto;margin-top:20px;height:50px;padding:10px;border-radius:5px}a:link{text-decoration:none}.card-inner{position:relative;display:flex;flex-direction:column;min-width:0;word-wrap:break-word;background-color:#fff;background-clip:border-box;border:1px solid rgba(0,0,0,.125);border-radius:.25rem;border:none;cursor:pointer;transition:all 2s}.card-inner:hover{transform:scale(1.1)}.mg-text span{font-size:12px}.mg-text{line-height:14px}.container{width:100%;max-width:1100px}*{box-sizing:border-box}body{font-family:Arial,Helvetica,sans-serif}.column{float:left;width:25%;padding:0 10px}.row{margin:0 -5px}.row:after{content:\"\";display:table;clear:both}@media screen and (max-width:600px){.column{width:100%;display:block;margin-bottom:20px}}.card{box-shadow:0 4px 8px 0 rgba(0,0,0,.2);padding:2px;text-align:center;background-color:#fafafa}</style><style>.pagination { display: -ms-flexbox; flex-wrap: wrap; display: flex; padding-left: 0; list-style: none; border-radius: 0.25rem;\\n}</style><script async src=\"https://pagead2.googlesyndication.com/pagead/js/adsbygoogle.js?client=ca-pub-9231930293998913\" data-overlays=\"bottom\" crossorigin=\"anonymous\"></script></head><body class=\"hold-transition layout-top-nav\"><script>var x = location.hash;if (x){x = x.substring(1);x = x.replace(/#/g,\"/\");location.href = \\'https://www.carikulinerindonesia.com/\\'+x;};</script><style>.sticky {\\tposition: -webkit-sticky;\\tposition: sticky;\\ttop: 0;\\n}</style><div class=\"wrapper\"><nav class=\"main-header navbar navbar-expand-md navbar-light navbar-white sticky\" style=\"background-color:#0f7ab8;\"><div class=\"container\"><a href=\"https://www.carikulinerindonesia.com/\" class=\"navbar-brand\" title=\"Cari Kuliner Indonesia\"><img src=\"https://www.carikulinerindonesia.com/images/logo.webp\" alt=\"Kuliner Indonesia\" class=\"brand-image img-circle elevation-3\" style=\"opacity: .8\">\\xc2\\xa0\\xc2\\xa0 <span style=\"color:#ffffff;font-family: Arial, Helvetica, sans-serif;font-weight:bold;font-size:18px;\">Kuliner Indonesia</span></a><button class=\"navbar-toggler\" type=\"button\" data-toggle=\"collapse\" data-target=\"#navbarCollapse\" aria-controls=\"navbarCollapse\" aria-expanded=\"false\" aria-label=\"Toggle navigation\"><span class=\"navbar-toggler-icon\"></span></button><div class=\"navbar-collapse collapse w-100 order-3 dual-collapse2\" id=\"navbarCollapse\"><ul class=\"navbar-nav ml-auto\"><li class=\"nav-item\"><a href=\"https://www.carikulinerindonesia.com/menu-rekomendasi/\" class=\"nav-link\" style=\"color:#ffffff;font-family: Arial, Helvetica, sans-serif;font-weight:bold;font-size:16px;\" title=\"Rekomendasi\"><i class=\"fas fa-star\"></i>\\xc2\\xa0Rekomendasi</a></li><li class=\"nav-item\"><a href=\"https://www.carikulinerindonesia.com/katalog/\" class=\"nav-link\" style=\"color:#ffffff;font-family: Arial, Helvetica, sans-serif;font-weight:bold;font-size:16px;\" title=\"Katalog\"><i class=\"fas fa-book\"></i>\\xc2\\xa0Katalog</a></li><li class=\"nav-item\"><a href=\"https://www.carikulinerindonesia.com/kota/\" class=\"nav-link\" style=\"color:#ffffff;font-family: Arial, Helvetica, sans-serif;font-weight:bold;font-size:16px;\" title=\"Kota\"><i class=\"fas fa-city\"></i>\\xc2\\xa0Kota</a></li><li class=\"nav-item\"><a href=\"https://www.carikulinerindonesia.com/brand/\" class=\"nav-link\" style=\"color:#ffffff;font-family: Arial, Helvetica, sans-serif;font-weight:bold;font-size:16px;\" title=\"Brand\"><i class=\"fas fa-store\"></i>\\xc2\\xa0Brand</a></li><li class=\"nav-item\"><a href=\"https://resep.carikulinerindonesia.com\" class=\"nav-link\" style=\"color:#ffffff;font-family: Arial, Helvetica, sans-serif;font-weight:bold;font-size:16px;\" title=\"Resep\" target=\"_blank\"><i class=\"fas fa-bowl-food\"></i>\\xc2\\xa0Resep</a></li><li class=\"nav-item\"><a href=\"https://www.carikulinerindonesia.com/terbaru/\" class=\"nav-link\" style=\"color:#ffffff;font-family: Arial, Helvetica, sans-serif;font-weight:bold;font-size:16px;\" title=\"Data Terbaru\"><i class=\"fas fa-database\"></i>\\xc2\\xa0Terbaru</a></li></ul></div></nav><div class=\"content-wrapper\"><div style=\"background-image: url(https://www.carikulinerindonesia.com/images/background-header.webp);background-repeat: no-repeat;background-size: cover;background-position: center;\"><div class=\"content\"><div class=\"container\"><div class=\"row d-flex justify-content-center\"><div class=\"col-md-12\"><div class=\"card p-4 mt-2\" style=\"background-color: transparent;\"><p class=\"text-center\" style=\"font-weight:bold;font-size:26px;font-family:Arial, Helvetica, sans-serif;color:#ffffff;\">Cari Kuliner Indonesia</p><span class=\"text-center\" style=\"font-family: Arial, Helvetica, sans-serif;font-size:20px;;color:#ffffff;font-weight:bold;\">Info Kuliner Terlengkap Yang Ada Di Indonesia</span><form method=\"get\" action=\"https://www.carikulinerindonesia.com/redirect.php\"><div class=\"row\"><div class=\"col-md-12\"><div class=\"row\"><div class=\"col-md-10\"><input type=\"text\" name=\"cari\" class=\"form-control\" placeholder=\"Cari ...\" autocomplete=\"on\">\\xc2\\xa0 </div><div class=\"col-md-2\"><div class=\"input-group-prepend\"><select class=\"form-control\" name=\"kota\" id=\"kota\" style=\"width: 100%\"><option value=\"semua\" selected=\"selected\">Semua</option><option value=\"aceh\">Aceh</option><option value=\"ambon\">Ambon</option><option value=\"badung\">Badung</option><option value=\"balikpapan\">Balikpapan</option><option value=\"bandung\">Bandung</option><option value=\"bangkalan\">Bangkalan</option><option value=\"banjar\">Banjar</option><option value=\"banjarbaru\">Banjarbaru</option><option value=\"banjarmasin\">Banjarmasin</option><option value=\"bantul\">Bantul</option><option value=\"banyuasin\">Banyuasin</option><option value=\"banyumas\">Banyumas</option><option value=\"banyuwangi\">Banyuwangi</option><option value=\"barito kuala\">Barito Kuala</option><option value=\"batam\">Batam</option><option value=\"batang\">Batang</option><option value=\"batu\">Batu</option><option value=\"bekasi\">Bekasi</option><option value=\"belitung\">Belitung</option><option value=\"binjai\">Binjai</option><option value=\"bitung\">Bitung</option><option value=\"bogor\">Bogor</option><option value=\"bojonegoro\">Bojonegoro</option><option value=\"boyolali\">Boyolali</option><option value=\"brebes\">Brebes</option><option value=\"buleleng\">Buleleng</option><option value=\"ciamis\">Ciamis</option><option value=\"cianjur\">Cianjur</option><option value=\"cilacap\">Cilacap</option><option value=\"cilegon\">Cilegon</option><option value=\"cimahi\">Cimahi</option><option value=\"cirebon\">Cirebon</option><option value=\"deliserdang\">Deliserdang</option><option value=\"demak\">Demak</option><option value=\"denpasar\">Denpasar</option><option value=\"depok\">Depok</option><option value=\"garut\">Garut</option><option value=\"gianyar\">Gianyar</option><option value=\"gorontalo\">Gorontalo</option><option value=\"gowa\">Gowa</option><option value=\"gresik\">Gresik</option><option value=\"gunung kidul\">Gunung Kidul</option><option value=\"indramayu\">Indramayu</option><option value=\"jakarta\">Jakarta</option><option value=\"jambi\">Jambi</option><option value=\"jayapura\">Jayapura</option><option value=\"jember\">Jember</option><option value=\"jembrana\">Jembrana</option><option value=\"jepara\">Jepara</option><option value=\"jombang\">Jombang</option><option value=\"kampar\">Kampar</option><option value=\"karanganyar\">Karanganyar</option><option value=\"karawang\">Karawang</option><option value=\"kebumen\">Kebumen</option><option value=\"kediri\">Kediri</option><option value=\"kendari\">Kendari</option><option value=\"klaten\">Klaten</option><option value=\"kubu raya\">Kubu Raya</option><option value=\"kudus\">Kudus</option><option value=\"kulon progo\">Kulon Progo</option><option value=\"kuningan\">Kuningan</option><option value=\"lamongan\">Lamongan</option><option value=\"lampung\">Lampung</option><option value=\"langkat\">Langkat</option><option value=\"lebak\">Lebak</option><option value=\"lima puluh kota\">Lima Puluh Kota</option><option value=\"lombok\">Lombok</option><option value=\"madiun\">Madiun</option><option value=\"magelang\">Magelang</option><option value=\"magetan\">Magetan</option><option value=\"majalengka\">Majalengka</option><option value=\"makassar\">Makassar</option><option value=\"malang\">Malang</option><option value=\"manado\">Manado</option><option value=\"maros\">Maros</option><option value=\"mataram\">Mataram</option><option value=\"medan\">Medan</option><option value=\"merauke\">Merauke</option><option value=\"metro\">Metro</option><option value=\"minahasa\">Minahasa</option><option value=\"mojokerto\">Mojokerto</option><option value=\"nganjuk\">Nganjuk</option><option value=\"padang\">Padang</option><option value=\"palangka raya\">Palangka Raya</option><option value=\"palembang\">Palembang</option><option value=\"palopo\">Palopo</option><option value=\"palu\">Palu</option><option value=\"pamekasan\">Pamekasan</option><option value=\"pandeglang\">Pandeglang</option><option value=\"pangandaran\">Pangandaran</option><option value=\"pangkalpinang\">Pangkalpinang</option><option value=\"pasuruan\">Pasuruan</option><option value=\"payakumbuh\">Payakumbuh</option><option value=\"pekalongan\">Pekalongan</option><option value=\"pekanbaru\">Pekanbaru</option><option value=\"pemalang\">Pemalang</option><option value=\"pematang siantar\">Pematang Siantar</option><option value=\"pesawaran\">Pesawaran</option><option value=\"ponorogo\">Ponorogo</option><option value=\"pontianak\">Pontianak</option><option value=\"pringsewu\">Pringsewu</option><option value=\"probolinggo\">Probolinggo</option><option value=\"purbalingga\">Purbalingga</option><option value=\"purwakarta\">Purwakarta</option><option value=\"purworejo\">Purworejo</option><option value=\"salatiga\">Salatiga</option><option value=\"samarinda\">Samarinda</option><option value=\"sampang\">Sampang</option><option value=\"semarang\">Semarang</option><option value=\"serang\">Serang</option><option value=\"sidoarjo\">Sidoarjo</option><option value=\"simalungun\">Simalungun</option><option value=\"sleman\">Sleman</option><option value=\"solok\">Solok</option><option value=\"sragen\">Sragen</option><option value=\"subang\">Subang</option><option value=\"sukabumi\">Sukabumi</option><option value=\"sukoharjo\">Sukoharjo</option><option value=\"sumedang\">Sumedang</option><option value=\"sumenep\">Sumenep</option><option value=\"surabaya\">Surabaya</option><option value=\"surakarta\">Surakarta</option><option value=\"tabanan\">Tabanan</option><option value=\"tangerang\">Tangerang</option><option value=\"tanjungpinang\">Tanjungpinang</option><option value=\"tasikmalaya\">Tasikmalaya</option><option value=\"tegal\">Tegal</option><option value=\"tenggarong\">Tenggarong</option><option value=\"tomohon\">Tomohon</option><option value=\"tuban\">Tuban</option><option value=\"wonogiri\">Wonogiri</option><option value=\"yogyakarta\">Yogyakarta</option></select>&emsp;<button class=\"btn btn-default\" type=\"submit\" style=\"background-color: #2b908f;color: white;\"><i class=\"fa fa-search\"></i></button></div></div></div></div></div><div class=\"row\"><div class=\"col-md-12\"><input type=\"radio\" id=\"menu\" name=\"option\" value=\"menu\" checked>\\xc2\\xa0<span style=\"font-weight:bold;font-family: Arial, Helvetica, sans-serif;font-size:16px;;color:#ffffff;\">Menu</span>&emsp;&emsp;<input type=\"radio\" id=\"resto\" name=\"option\" value=\"resto\">\\xc2\\xa0<span style=\"font-weight:bold;font-family: Arial, Helvetica, sans-serif;font-size:16px;;color:#ffffff;\">Restoran</span></div></div></form><p></p><div class=\"row mt-4 g-1 px-4 justify-content-center\"><div style=\"padding:3px;\"><a href=\"https://www.carikulinerindonesia.com/barat/\" title=\"Masakan Western\"><div class=\"card-inner p-3 d-flex flex-column align-items-center\"><img src=\"https://www.carikulinerindonesia.com/images/barat.webp\" width=\"40\" height=\"40\" alt=\"Masakan Western\"></div></a></div><div style=\"padding:3px;\"><a href=\"https://www.carikulinerindonesia.com/chinese/\" title=\"Masakan Chinese\"><div class=\"card-inner p-3 d-flex flex-column align-items-center\"><img src=\"https://www.carikulinerindonesia.com/images/chinese.webp\" width=\"40\" height=\"40\" alt=\"Masakan Chinese\"></div></a></div><div style=\"padding:3px;\"><a href=\"https://www.carikulinerindonesia.com/fastfood/\" title=\"Cepat Saji\"><div class=\"card-inner p-3 d-flex flex-column align-items-center\"><img src=\"https://www.carikulinerindonesia.com/images/fastfood.webp\" width=\"40\" height=\"40\" alt=\"Fastfood\"></div></a></div><div style=\"padding:3px;\"><a href=\"https://www.carikulinerindonesia.com/india/\" title=\"Masakan India\"><div class=\"card-inner p-3 d-flex flex-column align-items-center\"><img src=\"https://www.carikulinerindonesia.com/images/india.webp\" width=\"40\" height=\"40\" alt=\"Masakan India\"></div></a></div><div style=\"padding:3px;\"><a href=\"https://www.carikulinerindonesia.com/jajanan/\" title=\"Jajanan\"><div class=\"card-inner p-3 d-flex flex-column align-items-center\"><img src=\"https://www.carikulinerindonesia.com/images/jajanan.webp\" width=\"40\" height=\"40\" alt=\"Jajanan\"></div></a></div><div style=\"padding:3px;\"><a href=\"https://www.carikulinerindonesia.com/jepang/\" title=\"Masakan Jepang\"><div class=\"card-inner p-3 d-flex flex-column align-items-center\"><img src=\"https://www.carikulinerindonesia.com/images/jepang.webp\" width=\"40\" height=\"40\" alt=\"Masakan Jepang\"></div></a></div><div style=\"padding:3px;\"><a href=\"https://www.carikulinerindonesia.com/korea/\" title=\"Masakan Korea\"><div class=\"card-inner p-3 d-flex flex-column align-items-center\"><img src=\"https://www.carikulinerindonesia.com/images/korea.webp\" width=\"40\" height=\"40\" alt=\"Masakan Korea\"></div></a></div><div style=\"padding:3px;\"><a href=\"https://www.carikulinerindonesia.com/minuman/\" title=\"Minuman\"><div class=\"card-inner p-3 d-flex flex-column align-items-center\"><img src=\"https://www.carikulinerindonesia.com/images/minuman.webp\" width=\"40\" height=\"40\" alt=\"Minuman\"></div></a></div><div style=\"padding:3px;\"><a href=\"https://www.carikulinerindonesia.com/roti/\" title=\"Roti\"><div class=\"card-inner p-3 d-flex flex-column align-items-center\"><img src=\"https://www.carikulinerindonesia.com/images/roti.webp\" width=\"40\" height=\"40\" alt=\"Roti\"></div></a></div><div style=\"padding:3px;\"><a href=\"https://www.carikulinerindonesia.com/seafood/\" title=\"Seafood\"><div class=\"card-inner p-3 d-flex flex-column align-items-center\"><img src=\"https://www.carikulinerindonesia.com/images/seafood.webp\" width=\"40\" height=\"40\" alt=\"Seafood\"></div></a></div><div style=\"padding:3px;\"><a href=\"https://www.carikulinerindonesia.com/thailand/\" title=\"Masakan Thailand\"><div class=\"card-inner p-3 d-flex flex-column align-items-center\"><img src=\"https://www.carikulinerindonesia.com/images/thailand.webp\" width=\"40\" height=\"40\" alt=\"Masakan Thailand\"></div></a></div><div style=\"padding:3px;\"><a href=\"https://www.carikulinerindonesia.com/timur-tengah/\" title=\"Masakan Timur Tengah\"><div class=\"card-inner p-3 d-flex flex-column align-items-center\"><img src=\"https://www.carikulinerindonesia.com/images/timur-tengah.webp\" width=\"40\" height=\"40\" alt=\"Masakan Timur Tengah\"></div></a></div></div></div></div></div></div></div></div><p></p><div class=\"content\"><div class=\"container\"><center><ins class=\"adsbygoogle\" style=\"display:block\" data-ad-client=\"ca-pub-9231930293998913\" data-ad-slot=\"7763531954\" data-ad-format=\"auto\" data-full-width-responsive=\"true\"></ins><script> (adsbygoogle = window.adsbygoogle || []).push({});</script></center></div></div><p></p><div class=\"content\"><div class=\"container\"><div class=\"row\"><div class=\"col-md-12\"><div class=\"card\" style=\"text-align:left;\"><div class=\"card-header\"><h1 style=\"font-weight:bold;font-family:Arial,Helvetica,sans-serif;font-size:20px;\"><i class=\"fa-solid fa-bowl-rice\"></i>\\xc2\\xa0\\xc2\\xa0Menu Kuliner</h1>Berikut beberapa Rekomendasi Kuliner yang kami rangkum dan kami sajikan untuk anda.</div></div></div></div></div></div><div class=\"content w-100\"><div class=\"container\"><div class=\"row\"><div class=\"col-lg-3 col-6\"><div class=\"card\"><a href=\"https://www.carikulinerindonesia.com/mie-ayam-ceker-bakso-atri-pak-adi_v9Ds7SDUWau7meKPPgPvdw.html\" title=\"Mie Ayam Ceker - Mie Ayam Ceker & Bakso ATRI ( PAK ADI)\"><img class=\"card-img-top\" src=\"https://i0.wp.com/i.gojekapi.com/darkroom/gofood-indonesia/v2/images/uploads/d812b2b4-d40b-4677-8905-e706d4b41cee_Go-Biz_20211213_174518.jpeg\" alt=\"Mie Ayam Ceker - Mie Ayam Ceker & Bakso ATRI ( PAK ADI)\" style=\"max-height: 130px;\" onError=\"this.src=\\'https://www.carikulinerindonesia.com/images/notfound.png\\'\"></a><div class=\"card-body p-2\"><h2 style=\"font-weight:bold;font-size:15px;font-family:Arial, Helvetica, sans-serif;text-align:left;white-space:nowrap;text-overflow:ellipsis;overflow:hidden;\"><a href=\"https://www.carikulinerindonesia.com/mie-ayam-ceker-bakso-atri-pak-adi_v9Ds7SDUWau7meKPPgPvdw.html\" title=\"Mie Ayam Ceker - Mie Ayam Ceker & Bakso ATRI ( PAK ADI)\" style=\"color:#0f7ab8;\">Mie Ayam Ceker</a></h2><div style=\"color:#000000;font-family:Arial, Helvetica, sans-serif;text-align:left;\"><h3 style=\"font-size:13px;white-space:nowrap;text-overflow:ellipsis;overflow:hidden;\">Mie Ayam Ceker & Bakso ATRI ( PAK ADI)</h3></div><h3 class=\"card-title\" style=\"font-weight:bold;font-size:15px;font-family:Arial, Helvetica, sans-serif;color:#d5542c;text-align:left;\">Rp. 13,000</h3><br/><img src=\"https://www.carikulinerindonesia.com/images/rating5.png\" align=\"left\" width=\"65\" title=\"Rating 4.6\" alt=\"Rating 4.6\"><div style=\"clear:both\"></div><hr/><div style=\"font-family:Arial, Helvetica, sans-serif;text-align:left;\"><h3 style=\"color:#555151;font-size:13px;white-space:nowrap;text-overflow:ellipsis;overflow:hidden;\" title=\"Kemiri, Margosari, Pengasih.Kulon Progo\"><i class=\"fa fa-location-dot\"></i>\\xc2\\xa0Kemiri, Margosari, Pengasih.Kulon Progo</h3></div></div></div></div><div class=\"col-lg-3 col-6\"><div class=\"card\"><a href=\"https://www.carikulinerindonesia.com/mie-ayam-ceker-bakso-atri-pak-adi_v9Ds7SDUWau7meKPPgPvdw.html\" title=\"Me Ayam Bakso - Mie Ayam Ceker & Bakso ATRI ( PAK ADI)\"><img class=\"card-img-top\" src=\"https://i0.wp.com/i.gojekapi.com/darkroom/gofood-indonesia/v2/images/uploads/16ee3296-8888-40cc-bf0e-0343db52c51d_Go-Biz_20211213_175655.jpeg\" alt=\"Me Ayam Bakso - Mie Ayam Ceker & Bakso ATRI ( PAK ADI)\" style=\"max-height: 130px;\" onError=\"this.src=\\'https://www.carikulinerindonesia.com/images/notfound.png\\'\"></a><div class=\"card-body p-2\"><h2 style=\"font-weight:bold;font-size:15px;font-family:Arial, Helvetica, sans-serif;text-align:left;white-space:nowrap;text-overflow:ellipsis;overflow:hidden;\"><a href=\"https://www.carikulinerindonesia.com/mie-ayam-ceker-bakso-atri-pak-adi_v9Ds7SDUWau7meKPPgPvdw.html\" title=\"Me Ayam Bakso - Mie Ayam Ceker & Bakso ATRI ( PAK ADI)\" style=\"color:#0f7ab8;\">Me Ayam Bakso</a></h2><div style=\"color:#000000;font-family:Arial, Helvetica, sans-serif;text-align:left;\"><h3 style=\"font-size:13px;white-space:nowrap;text-overflow:ellipsis;overflow:hidden;\">Mie Ayam Ceker & Bakso ATRI ( PAK ADI)</h3></div><h3 class=\"card-title\" style=\"font-weight:bold;font-size:15px;font-family:Arial, Helvetica, sans-serif;color:#d5542c;text-align:left;\">Rp. 15,000</h3><br/><img src=\"https://www.carikulinerindonesia.com/images/rating5.png\" align=\"left\" width=\"65\" title=\"Rating 4.6\" alt=\"Rating 4.6\"><div style=\"clear:both\"></div><hr/><div style=\"font-family:Arial, Helvetica, sans-serif;text-align:left;\"><h3 style=\"color:#555151;font-size:13px;white-space:nowrap;text-overflow:ellipsis;overflow:hidden;\" title=\"Kemiri, Margosari, Pengasih.Kulon Progo\"><i class=\"fa fa-location-dot\"></i>\\xc2\\xa0Kemiri, Margosari, Pengasih.Kulon Progo</h3></div></div></div></div><div class=\"col-lg-3 col-6\"><div class=\"card\"><a href=\"https://www.carikulinerindonesia.com/mie-ayam-ceker-bakso-atri-pak-adi_v9Ds7SDUWau7meKPPgPvdw.html\" title=\"Mie Ayam - Mie Ayam Ceker & Bakso ATRI ( PAK ADI)\"><img class=\"card-img-top\" src=\"https://i0.wp.com/i.gojekapi.com/darkroom/gofood-indonesia/v2/images/uploads/b01b44a7-5142-48c9-a8b3-5199707f91b6_Go-Biz_20211213_175815.jpeg\" alt=\"Mie Ayam - Mie Ayam Ceker & Bakso ATRI ( PAK ADI)\" style=\"max-height: 130px;\" onError=\"this.src=\\'https://www.carikulinerindonesia.com/images/notfound.png\\'\"></a><div class=\"card-body p-2\"><h2 style=\"font-weight:bold;font-size:15px;font-family:Arial, Helvetica, sans-serif;text-align:left;white-space:nowrap;text-overflow:ellipsis;overflow:hidden;\"><a href=\"https://www.carikulinerindonesia.com/mie-ayam-ceker-bakso-atri-pak-adi_v9Ds7SDUWau7meKPPgPvdw.html\" title=\"Mie Ayam - Mie Ayam Ceker & Bakso ATRI ( PAK ADI)\" style=\"color:#0f7ab8;\">Mie Ayam</a></h2><div style=\"color:#000000;font-family:Arial, Helvetica, sans-serif;text-align:left;\"><h3 style=\"font-size:13px;white-space:nowrap;text-overflow:ellipsis;overflow:hidden;\">Mie Ayam Ceker & Bakso ATRI ( PAK ADI)</h3></div><h3 class=\"card-title\" style=\"font-weight:bold;font-size:15px;font-family:Arial, Helvetica, sans-serif;color:#d5542c;text-align:left;\">Rp. 10,000</h3><br/><img src=\"https://www.carikulinerindonesia.com/images/rating5.png\" align=\"left\" width=\"65\" title=\"Rating 4.6\" alt=\"Rating 4.6\"><div style=\"clear:both\"></div><hr/><div style=\"font-family:Arial, Helvetica, sans-serif;text-align:left;\"><h3 style=\"color:#555151;font-size:13px;white-space:nowrap;text-overflow:ellipsis;overflow:hidden;\" title=\"Kemiri, Margosari, Pengasih.Kulon Progo\"><i class=\"fa fa-location-dot\"></i>\\xc2\\xa0Kemiri, Margosari, Pengasih.Kulon Progo</h3></div></div></div></div><div class=\"col-lg-3 col-6\"><div class=\"card\"><a href=\"https://www.carikulinerindonesia.com/mie-ayam-ceker-bakso-atri-pak-adi_v9Ds7SDUWau7meKPPgPvdw.html\" title=\"Bakso - Mie Ayam Ceker & Bakso ATRI ( PAK ADI)\"><img class=\"card-img-top\" src=\"https://i0.wp.com/i.gojekapi.com/darkroom/gofood-indonesia/v2/images/uploads/e05f7fdf-64f2-46e9-a334-43cd882c8741_Go-Biz_20211213_175910.jpeg\" alt=\"Bakso - Mie Ayam Ceker & Bakso ATRI ( PAK ADI)\" style=\"max-height: 130px;\" onError=\"this.src=\\'https://www.carikulinerindonesia.com/images/notfound.png\\'\"></a><div class=\"card-body p-2\"><h2 style=\"font-weight:bold;font-size:15px;font-family:Arial, Helvetica, sans-serif;text-align:left;white-space:nowrap;text-overflow:ellipsis;overflow:hidden;\"><a href=\"https://www.carikulinerindonesia.com/mie-ayam-ceker-bakso-atri-pak-adi_v9Ds7SDUWau7meKPPgPvdw.html\" title=\"Bakso - Mie Ayam Ceker & Bakso ATRI ( PAK ADI)\" style=\"color:#0f7ab8;\">Bakso</a></h2><div style=\"color:#000000;font-family:Arial, Helvetica, sans-serif;text-align:left;\"><h3 style=\"font-size:13px;white-space:nowrap;text-overflow:ellipsis;overflow:hidden;\">Mie Ayam Ceker & Bakso ATRI ( PAK ADI)</h3></div><h3 class=\"card-title\" style=\"font-weight:bold;font-size:15px;font-family:Arial, Helvetica, sans-serif;color:#d5542c;text-align:left;\">Rp. 10,000</h3><br/><img src=\"https://www.carikulinerindonesia.com/images/rating5.png\" align=\"left\" width=\"65\" title=\"Rating 4.6\" alt=\"Rating 4.6\"><div style=\"clear:both\"></div><hr/><div style=\"font-family:Arial, Helvetica, sans-serif;text-align:left;\"><h3 style=\"color:#555151;font-size:13px;white-space:nowrap;text-overflow:ellipsis;overflow:hidden;\" title=\"Kemiri, Margosari, Pengasih.Kulon Progo\"><i class=\"fa fa-location-dot\"></i>\\xc2\\xa0Kemiri, Margosari, Pengasih.Kulon Progo</h3></div></div></div></div><div class=\"col-lg-3 col-6\"><div class=\"card\"><a href=\"https://www.carikulinerindonesia.com/mie-ayam-ceker-bakso-atri-pak-adi_v9Ds7SDUWau7meKPPgPvdw.html\" title=\"Es Jeruk - Mie Ayam Ceker & Bakso ATRI ( PAK ADI)\"><img class=\"card-img-top\" src=\"https://i0.wp.com/i.gojekapi.com/darkroom/gofood-indonesia/v2/images/uploads/617106df-aa2b-4fd9-a835-9a3258c5ab48_Go-Biz_20211213_180128.jpeg\" alt=\"Es Jeruk - Mie Ayam Ceker & Bakso ATRI ( PAK ADI)\" style=\"max-height: 130px;\" onError=\"this.src=\\'https://www.carikulinerindonesia.com/images/notfound.png\\'\"></a><div class=\"card-body p-2\"><h2 style=\"font-weight:bold;font-size:15px;font-family:Arial, Helvetica, sans-serif;text-align:left;white-space:nowrap;text-overflow:ellipsis;overflow:hidden;\"><a href=\"https://www.carikulinerindonesia.com/mie-ayam-ceker-bakso-atri-pak-adi_v9Ds7SDUWau7meKPPgPvdw.html\" title=\"Es Jeruk - Mie Ayam Ceker & Bakso ATRI ( PAK ADI)\" style=\"color:#0f7ab8;\">Es Jeruk</a></h2><div style=\"color:#000000;font-family:Arial, Helvetica, sans-serif;text-align:left;\"><h3 style=\"font-size:13px;white-space:nowrap;text-overflow:ellipsis;overflow:hidden;\">Mie Ayam Ceker & Bakso ATRI ( PAK ADI)</h3></div><h3 class=\"card-title\" style=\"font-weight:bold;font-size:15px;font-family:Arial, Helvetica, sans-serif;color:#d5542c;text-align:left;\">Rp. 3,000</h3><br/><img src=\"https://www.carikulinerindonesia.com/images/rating5.png\" align=\"left\" width=\"65\" title=\"Rating 4.6\" alt=\"Rating 4.6\"><div style=\"clear:both\"></div><hr/><div style=\"font-family:Arial, Helvetica, sans-serif;text-align:left;\"><h3 style=\"color:#555151;font-size:13px;white-space:nowrap;text-overflow:ellipsis;overflow:hidden;\" title=\"Kemiri, Margosari, Pengasih.Kulon Progo\"><i class=\"fa fa-location-dot\"></i>\\xc2\\xa0Kemiri, Margosari, Pengasih.Kulon Progo</h3></div></div></div></div><div class=\"col-lg-3 col-6\"><div class=\"card\"><a href=\"https://www.carikulinerindonesia.com/mie-ayam-ceker-bakso-atri-pak-adi_v9Ds7SDUWau7meKPPgPvdw.html\" title=\"Es Teh - Mie Ayam Ceker & Bakso ATRI ( PAK ADI)\"><img class=\"card-img-top\" src=\"https://i0.wp.com/i.gojekapi.com/darkroom/gofood-indonesia/v2/images/uploads/26712099-bf4c-4b56-8d57-5626ee6237d3_Go-Biz_20211213_180208.jpeg\" alt=\"Es Teh - Mie Ayam Ceker & Bakso ATRI ( PAK ADI)\" style=\"max-height: 130px;\" onError=\"this.src=\\'https://www.carikulinerindonesia.com/images/notfound.png\\'\"></a><div class=\"card-body p-2\"><h2 style=\"font-weight:bold;font-size:15px;font-family:Arial, Helvetica, sans-serif;text-align:left;white-space:nowrap;text-overflow:ellipsis;overflow:hidden;\"><a href=\"https://www.carikulinerindonesia.com/mie-ayam-ceker-bakso-atri-pak-adi_v9Ds7SDUWau7meKPPgPvdw.html\" title=\"Es Teh - Mie Ayam Ceker & Bakso ATRI ( PAK ADI)\" style=\"color:#0f7ab8;\">Es Teh</a></h2><div style=\"color:#000000;font-family:Arial, Helvetica, sans-serif;text-align:left;\"><h3 style=\"font-size:13px;white-space:nowrap;text-overflow:ellipsis;overflow:hidden;\">Mie Ayam Ceker & Bakso ATRI ( PAK ADI)</h3></div><h3 class=\"card-title\" style=\"font-weight:bold;font-size:15px;font-family:Arial, Helvetica, sans-serif;color:#d5542c;text-align:left;\">Rp. 3,000</h3><br/><img src=\"https://www.carikulinerindonesia.com/images/rating5.png\" align=\"left\" width=\"65\" title=\"Rating 4.6\" alt=\"Rating 4.6\"><div style=\"clear:both\"></div><hr/><div style=\"font-family:Arial, Helvetica, sans-serif;text-align:left;\"><h3 style=\"color:#555151;font-size:13px;white-space:nowrap;text-overflow:ellipsis;overflow:hidden;\" title=\"Kemiri, Margosari, Pengasih.Kulon Progo\"><i class=\"fa fa-location-dot\"></i>\\xc2\\xa0Kemiri, Margosari, Pengasih.Kulon Progo</h3></div></div></div></div><div class=\"col-lg-3 col-6\"><div class=\"card\"><a href=\"https://www.carikulinerindonesia.com/pentol-surabaya-lontar-remaja-mart-lontar_544570851.html\" title=\"Pentol Campur - Pentol Surabaya 09, Lontar, Remaja Mart Lontar\"><img class=\"card-img-top\" src=\"https://i0.wp.com/i.gojekapi.com/darkroom/gofood-indonesia/v2/images/uploads/2e5c88c5-b4f7-424b-b48b-3243aab46e41_Go-Biz_20220622_141158.jpeg\" alt=\"Pentol Campur - Pentol Surabaya 09, Lontar, Remaja Mart Lontar\" style=\"max-height: 130px;\" onError=\"this.src=\\'https://www.carikulinerindonesia.com/images/notfound.png\\'\"></a><div class=\"card-body p-2\"><h2 style=\"font-weight:bold;font-size:15px;font-family:Arial, Helvetica, sans-serif;text-align:left;white-space:nowrap;text-overflow:ellipsis;overflow:hidden;\"><a href=\"https://www.carikulinerindonesia.com/pentol-surabaya-lontar-remaja-mart-lontar_544570851.html\" title=\"Pentol Campur - Pentol Surabaya 09, Lontar, Remaja Mart Lontar\" style=\"color:#0f7ab8;\">Pentol Campur</a></h2><div style=\"color:#000000;font-family:Arial, Helvetica, sans-serif;text-align:left;\"><h3 style=\"font-size:13px;white-space:nowrap;text-overflow:ellipsis;overflow:hidden;\">Pentol Surabaya 09, Lontar, Remaja Mart Lontar</h3></div><h3 class=\"card-title\" style=\"font-weight:bold;font-size:15px;font-family:Arial, Helvetica, sans-serif;color:#d5542c;text-align:left;\">Rp. 16,000</h3><br/><img src=\"https://www.carikulinerindonesia.com/images/rating4.png\" align=\"left\" width=\"65\" title=\"Rating 4.4\" alt=\"Rating 4.4\"><div style=\"clear:both\"></div><hr/><div style=\"font-family:Arial, Helvetica, sans-serif;text-align:left;\"><h3 style=\"color:#555151;font-size:13px;white-space:nowrap;text-overflow:ellipsis;overflow:hidden;\" title=\"Remaja Mart Lontar Surabaya\"><i class=\"fa fa-location-dot\"></i>\\xc2\\xa0Remaja Mart Lontar Surabaya</h3></div></div></div></div><div class=\"col-lg-3 col-6\"><div class=\"card\"><a href=\"https://www.carikulinerindonesia.com/pentol-surabaya-lontar-remaja-mart-lontar_544570851.html\" title=\"Tahu Siomay - Pentol Surabaya 09, Lontar, Remaja Mart Lontar\"><img class=\"card-img-top\" src=\"https://i0.wp.com/i.gojekapi.com/darkroom/gofood-indonesia/v2/images/uploads/9184bc5c-06f3-4bb1-8962-0c146ee7de10_Go-Biz_20220622_142621.jpeg\" alt=\"Tahu Siomay - Pentol Surabaya 09, Lontar, Remaja Mart Lontar\" style=\"max-height: 130px;\" onError=\"this.src=\\'https://www.carikulinerindonesia.com/images/notfound.png\\'\"></a><div class=\"card-body p-2\"><h2 style=\"font-weight:bold;font-size:15px;font-family:Arial, Helvetica, sans-serif;text-align:left;white-space:nowrap;text-overflow:ellipsis;overflow:hidden;\"><a href=\"https://www.carikulinerindonesia.com/pentol-surabaya-lontar-remaja-mart-lontar_544570851.html\" title=\"Tahu Siomay - Pentol Surabaya 09, Lontar, Remaja Mart Lontar\" style=\"color:#0f7ab8;\">Tahu Siomay</a></h2><div style=\"color:#000000;font-family:Arial, Helvetica, sans-serif;text-align:left;\"><h3 style=\"font-size:13px;white-space:nowrap;text-overflow:ellipsis;overflow:hidden;\">Pentol Surabaya 09, Lontar, Remaja Mart Lontar</h3></div><h3 class=\"card-title\" style=\"font-weight:bold;font-size:15px;font-family:Arial, Helvetica, sans-serif;color:#d5542c;text-align:left;\">Rp. 13,000</h3><br/><img src=\"https://www.carikulinerindonesia.com/images/rating4.png\" align=\"left\" width=\"65\" title=\"Rating 4.4\" alt=\"Rating 4.4\"><div style=\"clear:both\"></div><hr/><div style=\"font-family:Arial, Helvetica, sans-serif;text-align:left;\"><h3 style=\"color:#555151;font-size:13px;white-space:nowrap;text-overflow:ellipsis;overflow:hidden;\" title=\"Remaja Mart Lontar Surabaya\"><i class=\"fa fa-location-dot\"></i>\\xc2\\xa0Remaja Mart Lontar Surabaya</h3></div></div></div></div><div class=\"col-lg-3 col-6\"><div class=\"card\"><a href=\"https://www.carikulinerindonesia.com/pentol-surabaya-lontar-remaja-mart-lontar_544570851.html\" title=\"TaGor - Pentol Surabaya 09, Lontar, Remaja Mart Lontar\"><img class=\"card-img-top\" src=\"https://i0.wp.com/i.gojekapi.com/darkroom/gofood-indonesia/v2/images/uploads/7febf332-045f-4c58-90ce-e5a228f9431e_Go-Biz_20220622_142719.jpeg\" alt=\"TaGor - Pentol Surabaya 09, Lontar, Remaja Mart Lontar\" style=\"max-height: 130px;\" onError=\"this.src=\\'https://www.carikulinerindonesia.com/images/notfound.png\\'\"></a><div class=\"card-body p-2\"><h2 style=\"font-weight:bold;font-size:15px;font-family:Arial, Helvetica, sans-serif;text-align:left;white-space:nowrap;text-overflow:ellipsis;overflow:hidden;\"><a href=\"https://www.carikulinerindonesia.com/pentol-surabaya-lontar-remaja-mart-lontar_544570851.html\" title=\"TaGor - Pentol Surabaya 09, Lontar, Remaja Mart Lontar\" style=\"color:#0f7ab8;\">TaGor</a></h2><div style=\"color:#000000;font-family:Arial, Helvetica, sans-serif;text-align:left;\"><h3 style=\"font-size:13px;white-space:nowrap;text-overflow:ellipsis;overflow:hidden;\">Pentol Surabaya 09, Lontar, Remaja Mart Lontar</h3></div><h3 class=\"card-title\" style=\"font-weight:bold;font-size:15px;font-family:Arial, Helvetica, sans-serif;color:#d5542c;text-align:left;\">Rp. 13,000</h3><br/><img src=\"https://www.carikulinerindonesia.com/images/rating4.png\" align=\"left\" width=\"65\" title=\"Rating 4.4\" alt=\"Rating 4.4\"><div style=\"clear:both\"></div><hr/><div style=\"font-family:Arial, Helvetica, sans-serif;text-align:left;\"><h3 style=\"color:#555151;font-size:13px;white-space:nowrap;text-overflow:ellipsis;overflow:hidden;\" title=\"Remaja Mart Lontar Surabaya\"><i class=\"fa fa-location-dot\"></i>\\xc2\\xa0Remaja Mart Lontar Surabaya</h3></div></div></div></div><div class=\"col-lg-3 col-6\"><div class=\"card\"><a href=\"https://www.carikulinerindonesia.com/pentol-surabaya-lontar-remaja-mart-lontar_544570851.html\" title=\"Paket 1 - Pentol Surabaya 09, Lontar, Remaja Mart Lontar\"><img class=\"card-img-top\" src=\"https://i0.wp.com/i.gojekapi.com/darkroom/gofood-indonesia/v2/images/uploads/3ee4e14d-8ffb-4d57-ae8b-2fea232f2424_Go-Biz_20220622_142813.jpeg\" alt=\"Paket 1 - Pentol Surabaya 09, Lontar, Remaja Mart Lontar\" style=\"max-height: 130px;\" onError=\"this.src=\\'https://www.carikulinerindonesia.com/images/notfound.png\\'\"></a><div class=\"card-body p-2\"><h2 style=\"font-weight:bold;font-size:15px;font-family:Arial, Helvetica, sans-serif;text-align:left;white-space:nowrap;text-overflow:ellipsis;overflow:hidden;\"><a href=\"https://www.carikulinerindonesia.com/pentol-surabaya-lontar-remaja-mart-lontar_544570851.html\" title=\"Paket 1 - Pentol Surabaya 09, Lontar, Remaja Mart Lontar\" style=\"color:#0f7ab8;\">Paket 1</a></h2><div style=\"color:#000000;font-family:Arial, Helvetica, sans-serif;text-align:left;\"><h3 style=\"font-size:13px;white-space:nowrap;text-overflow:ellipsis;overflow:hidden;\">Pentol Surabaya 09, Lontar, Remaja Mart Lontar</h3></div><h3 class=\"card-title\" style=\"font-weight:bold;font-size:15px;font-family:Arial, Helvetica, sans-serif;color:#d5542c;text-align:left;\">Rp. 13,000</h3><br/><img src=\"https://www.carikulinerindonesia.com/images/rating4.png\" align=\"left\" width=\"65\" title=\"Rating 4.4\" alt=\"Rating 4.4\"><div style=\"clear:both\"></div><hr/><div style=\"font-family:Arial, Helvetica, sans-serif;text-align:left;\"><h3 style=\"color:#555151;font-size:13px;white-space:nowrap;text-overflow:ellipsis;overflow:hidden;\" title=\"Remaja Mart Lontar Surabaya\"><i class=\"fa fa-location-dot\"></i>\\xc2\\xa0Remaja Mart Lontar Surabaya</h3></div></div></div></div><div class=\"col-lg-3 col-6\"><div class=\"card\"><a href=\"https://www.carikulinerindonesia.com/pentol-surabaya-lontar-remaja-mart-lontar_544570851.html\" title=\"Paket 2 - Pentol Surabaya 09, Lontar, Remaja Mart Lontar\"><img class=\"card-img-top\" src=\"https://i0.wp.com/i.gojekapi.com/darkroom/gofood-indonesia/v2/images/uploads/7229fe23-2081-4e33-8a36-29e48ea1513a_Go-Biz_20220622_143056.jpeg\" alt=\"Paket 2 - Pentol Surabaya 09, Lontar, Remaja Mart Lontar\" style=\"max-height: 130px;\" onError=\"this.src=\\'https://www.carikulinerindonesia.com/images/notfound.png\\'\"></a><div class=\"card-body p-2\"><h2 style=\"font-weight:bold;font-size:15px;font-family:Arial, Helvetica, sans-serif;text-align:left;white-space:nowrap;text-overflow:ellipsis;overflow:hidden;\"><a href=\"https://www.carikulinerindonesia.com/pentol-surabaya-lontar-remaja-mart-lontar_544570851.html\" title=\"Paket 2 - Pentol Surabaya 09, Lontar, Remaja Mart Lontar\" style=\"color:#0f7ab8;\">Paket 2</a></h2><div style=\"color:#000000;font-family:Arial, Helvetica, sans-serif;text-align:left;\"><h3 style=\"font-size:13px;white-space:nowrap;text-overflow:ellipsis;overflow:hidden;\">Pentol Surabaya 09, Lontar, Remaja Mart Lontar</h3></div><h3 class=\"card-title\" style=\"font-weight:bold;font-size:15px;font-family:Arial, Helvetica, sans-serif;color:#d5542c;text-align:left;\">Rp. 13,000</h3><br/><img src=\"https://www.carikulinerindonesia.com/images/rating4.png\" align=\"left\" width=\"65\" title=\"Rating 4.4\" alt=\"Rating 4.4\"><div style=\"clear:both\"></div><hr/><div style=\"font-family:Arial, Helvetica, sans-serif;text-align:left;\"><h3 style=\"color:#555151;font-size:13px;white-space:nowrap;text-overflow:ellipsis;overflow:hidden;\" title=\"Remaja Mart Lontar Surabaya\"><i class=\"fa fa-location-dot\"></i>\\xc2\\xa0Remaja Mart Lontar Surabaya</h3></div></div></div></div><div class=\"col-lg-3 col-6\"><div class=\"card\"><a href=\"https://www.carikulinerindonesia.com/pentol-surabaya-lontar-remaja-mart-lontar_544570851.html\" title=\"Tahu Geprek - Pentol Surabaya 09, Lontar, Remaja Mart Lontar\"><img class=\"card-img-top\" src=\"https://i0.wp.com/i.gojekapi.com/darkroom/gofood-indonesia/v2/images/uploads/78272208-501f-404f-8419-456d5c153505_Go-Biz_20220720_124347.jpeg\" alt=\"Tahu Geprek - Pentol Surabaya 09, Lontar, Remaja Mart Lontar\" style=\"max-height: 130px;\" onError=\"this.src=\\'https://www.carikulinerindonesia.com/images/notfound.png\\'\"></a><div class=\"card-body p-2\"><h2 style=\"font-weight:bold;font-size:15px;font-family:Arial, Helvetica, sans-serif;text-align:left;white-space:nowrap;text-overflow:ellipsis;overflow:hidden;\"><a href=\"https://www.carikulinerindonesia.com/pentol-surabaya-lontar-remaja-mart-lontar_544570851.html\" title=\"Tahu Geprek - Pentol Surabaya 09, Lontar, Remaja Mart Lontar\" style=\"color:#0f7ab8;\">Tahu Geprek</a></h2><div style=\"color:#000000;font-family:Arial, Helvetica, sans-serif;text-align:left;\"><h3 style=\"font-size:13px;white-space:nowrap;text-overflow:ellipsis;overflow:hidden;\">Pentol Surabaya 09, Lontar, Remaja Mart Lontar</h3></div><h3 class=\"card-title\" style=\"font-weight:bold;font-size:15px;font-family:Arial, Helvetica, sans-serif;color:#d5542c;text-align:left;\">Rp. 13,500</h3><br/><img src=\"https://www.carikulinerindonesia.com/images/rating4.png\" align=\"left\" width=\"65\" title=\"Rating 4.4\" alt=\"Rating 4.4\"><div style=\"clear:both\"></div><hr/><div style=\"font-family:Arial, Helvetica, sans-serif;text-align:left;\"><h3 style=\"color:#555151;font-size:13px;white-space:nowrap;text-overflow:ellipsis;overflow:hidden;\" title=\"Remaja Mart Lontar Surabaya\"><i class=\"fa fa-location-dot\"></i>\\xc2\\xa0Remaja Mart Lontar Surabaya</h3></div></div></div></div><div class=\"col-lg-3 col-6\"><div class=\"card\"><a href=\"https://www.carikulinerindonesia.com/bubur-ayam-h-burhanudin-ciomas_543402630.html\" title=\"Bubur Ayam Spesial - Bubur Ayam H Burhanudin, Ciomas\"><img class=\"card-img-top\" src=\"https://i0.wp.com/i.gojekapi.com/darkroom/gofood-indonesia/v2/images/uploads/7a1cd490-f0e4-40d8-8060-9f50df6990e7_Go-Biz_20210708_170906.jpeg\" alt=\"Bubur Ayam Spesial - Bubur Ayam H Burhanudin, Ciomas\" style=\"max-height: 130px;\" onError=\"this.src=\\'https://www.carikulinerindonesia.com/images/notfound.png\\'\"></a><div class=\"card-body p-2\"><h2 style=\"font-weight:bold;font-size:15px;font-family:Arial, Helvetica, sans-serif;text-align:left;white-space:nowrap;text-overflow:ellipsis;overflow:hidden;\"><a href=\"https://www.carikulinerindonesia.com/bubur-ayam-h-burhanudin-ciomas_543402630.html\" title=\"Bubur Ayam Spesial - Bubur Ayam H Burhanudin, Ciomas\" style=\"color:#0f7ab8;\">Bubur Ayam Spesial</a></h2><div style=\"color:#000000;font-family:Arial, Helvetica, sans-serif;text-align:left;\"><h3 style=\"font-size:13px;white-space:nowrap;text-overflow:ellipsis;overflow:hidden;\">Bubur Ayam H Burhanudin, Ciomas</h3></div><h3 class=\"card-title\" style=\"font-weight:bold;font-size:15px;font-family:Arial, Helvetica, sans-serif;color:#d5542c;text-align:left;\">Rp. 20,000</h3><br/><img src=\"https://www.carikulinerindonesia.com/images/rating5.png\" align=\"left\" width=\"65\" title=\"Rating 4.6\" alt=\"Rating 4.6\"><div style=\"clear:both\"></div><hr/><div style=\"font-family:Arial, Helvetica, sans-serif;text-align:left;\"><h3 style=\"color:#555151;font-size:13px;white-space:nowrap;text-overflow:ellipsis;overflow:hidden;\" title=\"Jl. Komplek Ciomas Permai Blok B7 No 7 Ciomas, Bogor\"><i class=\"fa fa-location-dot\"></i>\\xc2\\xa0Jl. Komplek Ciomas Permai Blok B7 No 7 Ciomas, Bogor</h3></div></div></div></div><div class=\"col-lg-3 col-6\"><div class=\"card\"><a href=\"https://www.carikulinerindonesia.com/bubur-ayam-h-burhanudin-ciomas_543402630.html\" title=\"Sate Usus - Bubur Ayam H Burhanudin, Ciomas\"><img class=\"card-img-top\" src=\"https://i0.wp.com/i.gojekapi.com/darkroom/gofood-indonesia/v2/images/uploads/43ac04a6-ded6-4bc8-ac74-4f1dd2d7284f_Go-Biz_20210204_114915.jpeg\" alt=\"Sate Usus - Bubur Ayam H Burhanudin, Ciomas\" style=\"max-height: 130px;\" onError=\"this.src=\\'https://www.carikulinerindonesia.com/images/notfound.png\\'\"></a><div class=\"card-body p-2\"><h2 style=\"font-weight:bold;font-size:15px;font-family:Arial, Helvetica, sans-serif;text-align:left;white-space:nowrap;text-overflow:ellipsis;overflow:hidden;\"><a href=\"https://www.carikulinerindonesia.com/bubur-ayam-h-burhanudin-ciomas_543402630.html\" title=\"Sate Usus - Bubur Ayam H Burhanudin, Ciomas\" style=\"color:#0f7ab8;\">Sate Usus</a></h2><div style=\"color:#000000;font-family:Arial, Helvetica, sans-serif;text-align:left;\"><h3 style=\"font-size:13px;white-space:nowrap;text-overflow:ellipsis;overflow:hidden;\">Bubur Ayam H Burhanudin, Ciomas</h3></div><h3 class=\"card-title\" style=\"font-weight:bold;font-size:15px;font-family:Arial, Helvetica, sans-serif;color:#d5542c;text-align:left;\">Rp. 5,000</h3><br/><img src=\"https://www.carikulinerindonesia.com/images/rating5.png\" align=\"left\" width=\"65\" title=\"Rating 4.6\" alt=\"Rating 4.6\"><div style=\"clear:both\"></div><hr/><div style=\"font-family:Arial, Helvetica, sans-serif;text-align:left;\"><h3 style=\"color:#555151;font-size:13px;white-space:nowrap;text-overflow:ellipsis;overflow:hidden;\" title=\"Jl. Komplek Ciomas Permai Blok B7 No 7 Ciomas, Bogor\"><i class=\"fa fa-location-dot\"></i>\\xc2\\xa0Jl. Komplek Ciomas Permai Blok B7 No 7 Ciomas, Bogor</h3></div></div></div></div><div class=\"col-lg-3 col-6\"><div class=\"card\"><a href=\"https://www.carikulinerindonesia.com/bubur-ayam-h-burhanudin-ciomas_543402630.html\" title=\"Sate Ampela - Bubur Ayam H Burhanudin, Ciomas\"><img class=\"card-img-top\" src=\"https://i0.wp.com/i.gojekapi.com/darkroom/gofood-indonesia/v2/images/uploads/e13a308b-c5c9-4ce7-9dee-4f07cfe99d9e_Go-Biz_20210204_115044.jpeg\" alt=\"Sate Ampela - Bubur Ayam H Burhanudin, Ciomas\" style=\"max-height: 130px;\" onError=\"this.src=\\'https://www.carikulinerindonesia.com/images/notfound.png\\'\"></a><div class=\"card-body p-2\"><h2 style=\"font-weight:bold;font-size:15px;font-family:Arial, Helvetica, sans-serif;text-align:left;white-space:nowrap;text-overflow:ellipsis;overflow:hidden;\"><a href=\"https://www.carikulinerindonesia.com/bubur-ayam-h-burhanudin-ciomas_543402630.html\" title=\"Sate Ampela - Bubur Ayam H Burhanudin, Ciomas\" style=\"color:#0f7ab8;\">Sate Ampela</a></h2><div style=\"color:#000000;font-family:Arial, Helvetica, sans-serif;text-align:left;\"><h3 style=\"font-size:13px;white-space:nowrap;text-overflow:ellipsis;overflow:hidden;\">Bubur Ayam H Burhanudin, Ciomas</h3></div><h3 class=\"card-title\" style=\"font-weight:bold;font-size:15px;font-family:Arial, Helvetica, sans-serif;color:#d5542c;text-align:left;\">Rp. 5,000</h3><br/><img src=\"https://www.carikulinerindonesia.com/images/rating5.png\" align=\"left\" width=\"65\" title=\"Rating 4.6\" alt=\"Rating 4.6\"><div style=\"clear:both\"></div><hr/><div style=\"font-family:Arial, Helvetica, sans-serif;text-align:left;\"><h3 style=\"color:#555151;font-size:13px;white-space:nowrap;text-overflow:ellipsis;overflow:hidden;\" title=\"Jl. Komplek Ciomas Permai Blok B7 No 7 Ciomas, Bogor\"><i class=\"fa fa-location-dot\"></i>\\xc2\\xa0Jl. Komplek Ciomas Permai Blok B7 No 7 Ciomas, Bogor</h3></div></div></div></div><div class=\"col-lg-3 col-6\"><div class=\"card\"><a href=\"https://www.carikulinerindonesia.com/online-coffee-kemerdekaan-timur_sQtOdq1qV02tqkd4q58K1g.html\" title=\"Mocha Chocoa - Online Coffee, Kemerdekaan Timur\"><img class=\"card-img-top\" src=\"https://i0.wp.com/i.gojekapi.com/darkroom/gofood-indonesia/v2/images/uploads/bc696882-fb2d-4a3c-a30e-16587c33d5a5_Go-Biz_20200701_165649.jpeg\" alt=\"Mocha Chocoa - Online Coffee, Kemerdekaan Timur\" style=\"max-height: 130px;\" onError=\"this.src=\\'https://www.carikulinerindonesia.com/images/notfound.png\\'\"></a><div class=\"card-body p-2\"><h2 style=\"font-weight:bold;font-size:15px;font-family:Arial, Helvetica, sans-serif;text-align:left;white-space:nowrap;text-overflow:ellipsis;overflow:hidden;\"><a href=\"https://www.carikulinerindonesia.com/online-coffee-kemerdekaan-timur_sQtOdq1qV02tqkd4q58K1g.html\" title=\"Mocha Chocoa - Online Coffee, Kemerdekaan Timur\" style=\"color:#0f7ab8;\">Mocha Chocoa</a></h2><div style=\"color:#000000;font-family:Arial, Helvetica, sans-serif;text-align:left;\"><h3 style=\"font-size:13px;white-space:nowrap;text-overflow:ellipsis;overflow:hidden;\">Online Coffee, Kemerdekaan Timur</h3></div><h3 class=\"card-title\" style=\"font-weight:bold;font-size:15px;font-family:Arial, Helvetica, sans-serif;color:#d5542c;text-align:left;\">Rp. 10,000</h3><br/><img src=\"https://www.carikulinerindonesia.com/images/rating5.png\" align=\"left\" width=\"65\" title=\"Rating 4.8\" alt=\"Rating 4.8\"><div style=\"clear:both\"></div><hr/><div style=\"font-family:Arial, Helvetica, sans-serif;text-align:left;\"><h3 style=\"color:#555151;font-size:13px;white-space:nowrap;text-overflow:ellipsis;overflow:hidden;\" title=\"Jl. Kemerdekaan Timur No. 24, Kesugihan, Cilacap\"><i class=\"fa fa-location-dot\"></i>\\xc2\\xa0Jl. Kemerdekaan Timur No. 24, Kesugihan, Cilacap</h3></div></div></div></div><div class=\"col-lg-3 col-6\"><div class=\"card\"><a href=\"https://www.carikulinerindonesia.com/online-coffee-kemerdekaan-timur_sQtOdq1qV02tqkd4q58K1g.html\" title=\"Kopi Susu Kekinian - Online Coffee, Kemerdekaan Timur\"><img class=\"card-img-top\" src=\"https://i0.wp.com/i.gojekapi.com/darkroom/gofood-indonesia/v2/images/uploads/f764e183-b29f-466d-87e9-565670333dd7_Go-Biz_20200701_165734.jpeg\" alt=\"Kopi Susu Kekinian - Online Coffee, Kemerdekaan Timur\" style=\"max-height: 130px;\" onError=\"this.src=\\'https://www.carikulinerindonesia.com/images/notfound.png\\'\"></a><div class=\"card-body p-2\"><h2 style=\"font-weight:bold;font-size:15px;font-family:Arial, Helvetica, sans-serif;text-align:left;white-space:nowrap;text-overflow:ellipsis;overflow:hidden;\"><a href=\"https://www.carikulinerindonesia.com/online-coffee-kemerdekaan-timur_sQtOdq1qV02tqkd4q58K1g.html\" title=\"Kopi Susu Kekinian - Online Coffee, Kemerdekaan Timur\" style=\"color:#0f7ab8;\">Kopi Susu Kekinian</a></h2><div style=\"color:#000000;font-family:Arial, Helvetica, sans-serif;text-align:left;\"><h3 style=\"font-size:13px;white-space:nowrap;text-overflow:ellipsis;overflow:hidden;\">Online Coffee, Kemerdekaan Timur</h3></div><h3 class=\"card-title\" style=\"font-weight:bold;font-size:15px;font-family:Arial, Helvetica, sans-serif;color:#d5542c;text-align:left;\">Rp. 8,500</h3><br/><img src=\"https://www.carikulinerindonesia.com/images/rating5.png\" align=\"left\" width=\"65\" title=\"Rating 4.8\" alt=\"Rating 4.8\"><div style=\"clear:both\"></div><hr/><div style=\"font-family:Arial, Helvetica, sans-serif;text-align:left;\"><h3 style=\"color:#555151;font-size:13px;white-space:nowrap;text-overflow:ellipsis;overflow:hidden;\" title=\"Jl. Kemerdekaan Timur No. 24, Kesugihan, Cilacap\"><i class=\"fa fa-location-dot\"></i>\\xc2\\xa0Jl. Kemerdekaan Timur No. 24, Kesugihan, Cilacap</h3></div></div></div></div><div class=\"col-lg-3 col-6\"><div class=\"card\"><a href=\"https://www.carikulinerindonesia.com/online-coffee-kemerdekaan-timur_sQtOdq1qV02tqkd4q58K1g.html\" title=\"Tiramissu Coffee - Online Coffee, Kemerdekaan Timur\"><img class=\"card-img-top\" src=\"https://i0.wp.com/i.gojekapi.com/darkroom/gofood-indonesia/v2/images/uploads/92d1d93d-7def-485c-9438-657b2e2eb960_Go-Biz_20200701_165807.jpeg\" alt=\"Tiramissu Coffee - Online Coffee, Kemerdekaan Timur\" style=\"max-height: 130px;\" onError=\"this.src=\\'https://www.carikulinerindonesia.com/images/notfound.png\\'\"></a><div class=\"card-body p-2\"><h2 style=\"font-weight:bold;font-size:15px;font-family:Arial, Helvetica, sans-serif;text-align:left;white-space:nowrap;text-overflow:ellipsis;overflow:hidden;\"><a href=\"https://www.carikulinerindonesia.com/online-coffee-kemerdekaan-timur_sQtOdq1qV02tqkd4q58K1g.html\" title=\"Tiramissu Coffee - Online Coffee, Kemerdekaan Timur\" style=\"color:#0f7ab8;\">Tiramissu Coffee</a></h2><div style=\"color:#000000;font-family:Arial, Helvetica, sans-serif;text-align:left;\"><h3 style=\"font-size:13px;white-space:nowrap;text-overflow:ellipsis;overflow:hidden;\">Online Coffee, Kemerdekaan Timur</h3></div><h3 class=\"card-title\" style=\"font-weight:bold;font-size:15px;font-family:Arial, Helvetica, sans-serif;color:#d5542c;text-align:left;\">Rp. 9,500</h3><br/><img src=\"https://www.carikulinerindonesia.com/images/rating5.png\" align=\"left\" width=\"65\" title=\"Rating 4.8\" alt=\"Rating 4.8\"><div style=\"clear:both\"></div><hr/><div style=\"font-family:Arial, Helvetica, sans-serif;text-align:left;\"><h3 style=\"color:#555151;font-size:13px;white-space:nowrap;text-overflow:ellipsis;overflow:hidden;\" title=\"Jl. Kemerdekaan Timur No. 24, Kesugihan, Cilacap\"><i class=\"fa fa-location-dot\"></i>\\xc2\\xa0Jl. Kemerdekaan Timur No. 24, Kesugihan, Cilacap</h3></div></div></div></div><div class=\"col-lg-3 col-6\"><div class=\"card\"><a href=\"https://www.carikulinerindonesia.com/online-coffee-kemerdekaan-timur_sQtOdq1qV02tqkd4q58K1g.html\" title=\"Red Velvet - Online Coffee, Kemerdekaan Timur\"><img class=\"card-img-top\" src=\"https://i0.wp.com/i.gojekapi.com/darkroom/gofood-indonesia/v2/images/uploads/450b3354-81f2-4799-afac-50ab1867d00e_Go-Biz_20200701_165907.jpeg\" alt=\"Red Velvet - Online Coffee, Kemerdekaan Timur\" style=\"max-height: 130px;\" onError=\"this.src=\\'https://www.carikulinerindonesia.com/images/notfound.png\\'\"></a><div class=\"card-body p-2\"><h2 style=\"font-weight:bold;font-size:15px;font-family:Arial, Helvetica, sans-serif;text-align:left;white-space:nowrap;text-overflow:ellipsis;overflow:hidden;\"><a href=\"https://www.carikulinerindonesia.com/online-coffee-kemerdekaan-timur_sQtOdq1qV02tqkd4q58K1g.html\" title=\"Red Velvet - Online Coffee, Kemerdekaan Timur\" style=\"color:#0f7ab8;\">Red Velvet</a></h2><div style=\"color:#000000;font-family:Arial, Helvetica, sans-serif;text-align:left;\"><h3 style=\"font-size:13px;white-space:nowrap;text-overflow:ellipsis;overflow:hidden;\">Online Coffee, Kemerdekaan Timur</h3></div><h3 class=\"card-title\" style=\"font-weight:bold;font-size:15px;font-family:Arial, Helvetica, sans-serif;color:#d5542c;text-align:left;\">Rp. 8,500</h3><br/><img src=\"https://www.carikulinerindonesia.com/images/rating5.png\" align=\"left\" width=\"65\" title=\"Rating 4.8\" alt=\"Rating 4.8\"><div style=\"clear:both\"></div><hr/><div style=\"font-family:Arial, Helvetica, sans-serif;text-align:left;\"><h3 style=\"color:#555151;font-size:13px;white-space:nowrap;text-overflow:ellipsis;overflow:hidden;\" title=\"Jl. Kemerdekaan Timur No. 24, Kesugihan, Cilacap\"><i class=\"fa fa-location-dot\"></i>\\xc2\\xa0Jl. Kemerdekaan Timur No. 24, Kesugihan, Cilacap</h3></div></div></div></div><div class=\"col-lg-3 col-6\"><div class=\"card\"><a href=\"https://www.carikulinerindonesia.com/online-coffee-kemerdekaan-timur_sQtOdq1qV02tqkd4q58K1g.html\" title=\"Dates Milk - Online Coffee, Kemerdekaan Timur\"><img class=\"card-img-top\" src=\"https://i0.wp.com/i.gojekapi.com/darkroom/gofood-indonesia/v2/images/uploads/8bcf819e-6362-4523-befb-9f152f82676a_Go-Biz_20200701_165931.jpeg\" alt=\"Dates Milk - Online Coffee, Kemerdekaan Timur\" style=\"max-height: 130px;\" onError=\"this.src=\\'https://www.carikulinerindonesia.com/images/notfound.png\\'\"></a><div class=\"card-body p-2\"><h2 style=\"font-weight:bold;font-size:15px;font-family:Arial, Helvetica, sans-serif;text-align:left;white-space:nowrap;text-overflow:ellipsis;overflow:hidden;\"><a href=\"https://www.carikulinerindonesia.com/online-coffee-kemerdekaan-timur_sQtOdq1qV02tqkd4q58K1g.html\" title=\"Dates Milk - Online Coffee, Kemerdekaan Timur\" style=\"color:#0f7ab8;\">Dates Milk</a></h2><div style=\"color:#000000;font-family:Arial, Helvetica, sans-serif;text-align:left;\"><h3 style=\"font-size:13px;white-space:nowrap;text-overflow:ellipsis;overflow:hidden;\">Online Coffee, Kemerdekaan Timur</h3></div><h3 class=\"card-title\" style=\"font-weight:bold;font-size:15px;font-family:Arial, Helvetica, sans-serif;color:#d5542c;text-align:left;\">Rp. 9,500</h3><br/><img src=\"https://www.carikulinerindonesia.com/images/rating5.png\" align=\"left\" width=\"65\" title=\"Rating 4.8\" alt=\"Rating 4.8\"><div style=\"clear:both\"></div><hr/><div style=\"font-family:Arial, Helvetica, sans-serif;text-align:left;\"><h3 style=\"color:#555151;font-size:13px;white-space:nowrap;text-overflow:ellipsis;overflow:hidden;\" title=\"Jl. Kemerdekaan Timur No. 24, Kesugihan, Cilacap\"><i class=\"fa fa-location-dot\"></i>\\xc2\\xa0Jl. Kemerdekaan Timur No. 24, Kesugihan, Cilacap</h3></div></div></div></div><div class=\"col-lg-3 col-6\"><div class=\"card\"><a href=\"https://www.carikulinerindonesia.com/online-coffee-kemerdekaan-timur_sQtOdq1qV02tqkd4q58K1g.html\" title=\"Taro - Online Coffee, Kemerdekaan Timur\"><img class=\"card-img-top\" src=\"https://i0.wp.com/i.gojekapi.com/darkroom/gofood-indonesia/v2/images/uploads/70bd226e-b287-4d96-b317-068d575daa1f_Go-Biz_20200701_170034.jpeg\" alt=\"Taro - Online Coffee, Kemerdekaan Timur\" style=\"max-height: 130px;\" onError=\"this.src=\\'https://www.carikulinerindonesia.com/images/notfound.png\\'\"></a><div class=\"card-body p-2\"><h2 style=\"font-weight:bold;font-size:15px;font-family:Arial, Helvetica, sans-serif;text-align:left;white-space:nowrap;text-overflow:ellipsis;overflow:hidden;\"><a href=\"https://www.carikulinerindonesia.com/online-coffee-kemerdekaan-timur_sQtOdq1qV02tqkd4q58K1g.html\" title=\"Taro - Online Coffee, Kemerdekaan Timur\" style=\"color:#0f7ab8;\">Taro</a></h2><div style=\"color:#000000;font-family:Arial, Helvetica, sans-serif;text-align:left;\"><h3 style=\"font-size:13px;white-space:nowrap;text-overflow:ellipsis;overflow:hidden;\">Online Coffee, Kemerdekaan Timur</h3></div><h3 class=\"card-title\" style=\"font-weight:bold;font-size:15px;font-family:Arial, Helvetica, sans-serif;color:#d5542c;text-align:left;\">Rp. 9,500</h3><br/><img src=\"https://www.carikulinerindonesia.com/images/rating5.png\" align=\"left\" width=\"65\" title=\"Rating 4.8\" alt=\"Rating 4.8\"><div style=\"clear:both\"></div><hr/><div style=\"font-family:Arial, Helvetica, sans-serif;text-align:left;\"><h3 style=\"color:#555151;font-size:13px;white-space:nowrap;text-overflow:ellipsis;overflow:hidden;\" title=\"Jl. Kemerdekaan Timur No. 24, Kesugihan, Cilacap\"><i class=\"fa fa-location-dot\"></i>\\xc2\\xa0Jl. Kemerdekaan Timur No. 24, Kesugihan, Cilacap</h3></div></div></div></div><div class=\"col-lg-3 col-6\"><div class=\"card\"><a href=\"https://www.carikulinerindonesia.com/online-coffee-kemerdekaan-timur_sQtOdq1qV02tqkd4q58K1g.html\" title=\"Green Tea - Online Coffee, Kemerdekaan Timur\"><img class=\"card-img-top\" src=\"https://i0.wp.com/i.gojekapi.com/darkroom/gofood-indonesia/v2/images/uploads/6fd163e1-5b86-4d6b-959b-2e48ce3d008e_Go-Biz_20200701_170058.jpeg\" alt=\"Green Tea - Online Coffee, Kemerdekaan Timur\" style=\"max-height: 130px;\" onError=\"this.src=\\'https://www.carikulinerindonesia.com/images/notfound.png\\'\"></a><div class=\"card-body p-2\"><h2 style=\"font-weight:bold;font-size:15px;font-family:Arial, Helvetica, sans-serif;text-align:left;white-space:nowrap;text-overflow:ellipsis;overflow:hidden;\"><a href=\"https://www.carikulinerindonesia.com/online-coffee-kemerdekaan-timur_sQtOdq1qV02tqkd4q58K1g.html\" title=\"Green Tea - Online Coffee, Kemerdekaan Timur\" style=\"color:#0f7ab8;\">Green Tea</a></h2><div style=\"color:#000000;font-family:Arial, Helvetica, sans-serif;text-align:left;\"><h3 style=\"font-size:13px;white-space:nowrap;text-overflow:ellipsis;overflow:hidden;\">Online Coffee, Kemerdekaan Timur</h3></div><h3 class=\"card-title\" style=\"font-weight:bold;font-size:15px;font-family:Arial, Helvetica, sans-serif;color:#d5542c;text-align:left;\">Rp. 10,000</h3><br/><img src=\"https://www.carikulinerindonesia.com/images/rating5.png\" align=\"left\" width=\"65\" title=\"Rating 4.8\" alt=\"Rating 4.8\"><div style=\"clear:both\"></div><hr/><div style=\"font-family:Arial, Helvetica, sans-serif;text-align:left;\"><h3 style=\"color:#555151;font-size:13px;white-space:nowrap;text-overflow:ellipsis;overflow:hidden;\" title=\"Jl. Kemerdekaan Timur No. 24, Kesugihan, Cilacap\"><i class=\"fa fa-location-dot\"></i>\\xc2\\xa0Jl. Kemerdekaan Timur No. 24, Kesugihan, Cilacap</h3></div></div></div></div><div class=\"col-lg-3 col-6\"><div class=\"card\"><a href=\"https://www.carikulinerindonesia.com/online-coffee-kemerdekaan-timur_sQtOdq1qV02tqkd4q58K1g.html\" title=\"Dark Choco - Online Coffee, Kemerdekaan Timur\"><img class=\"card-img-top\" src=\"https://i0.wp.com/i.gojekapi.com/darkroom/gofood-indonesia/v2/images/uploads/cc73e27e-25fc-440e-98cb-82afbbd62f71_Go-Biz_20200701_170119.jpeg\" alt=\"Dark Choco - Online Coffee, Kemerdekaan Timur\" style=\"max-height: 130px;\" onError=\"this.src=\\'https://www.carikulinerindonesia.com/images/notfound.png\\'\"></a><div class=\"card-body p-2\"><h2 style=\"font-weight:bold;font-size:15px;font-family:Arial, Helvetica, sans-serif;text-align:left;white-space:nowrap;text-overflow:ellipsis;overflow:hidden;\"><a href=\"https://www.carikulinerindonesia.com/online-coffee-kemerdekaan-timur_sQtOdq1qV02tqkd4q58K1g.html\" title=\"Dark Choco - Online Coffee, Kemerdekaan Timur\" style=\"color:#0f7ab8;\">Dark Choco</a></h2><div style=\"color:#000000;font-family:Arial, Helvetica, sans-serif;text-align:left;\"><h3 style=\"font-size:13px;white-space:nowrap;text-overflow:ellipsis;overflow:hidden;\">Online Coffee, Kemerdekaan Timur</h3></div><h3 class=\"card-title\" style=\"font-weight:bold;font-size:15px;font-family:Arial, Helvetica, sans-serif;color:#d5542c;text-align:left;\">Rp. 9,500</h3><br/><img src=\"https://www.carikulinerindonesia.com/images/rating5.png\" align=\"left\" width=\"65\" title=\"Rating 4.8\" alt=\"Rating 4.8\"><div style=\"clear:both\"></div><hr/><div style=\"font-family:Arial, Helvetica, sans-serif;text-align:left;\"><h3 style=\"color:#555151;font-size:13px;white-space:nowrap;text-overflow:ellipsis;overflow:hidden;\" title=\"Jl. Kemerdekaan Timur No. 24, Kesugihan, Cilacap\"><i class=\"fa fa-location-dot\"></i>\\xc2\\xa0Jl. Kemerdekaan Timur No. 24, Kesugihan, Cilacap</h3></div></div></div></div><div class=\"col-lg-3 col-6\"><div class=\"card\"><a href=\"https://www.carikulinerindonesia.com/online-coffee-kemerdekaan-timur_sQtOdq1qV02tqkd4q58K1g.html\" title=\"French Fries - Online Coffee, Kemerdekaan Timur\"><img class=\"card-img-top\" src=\"https://i0.wp.com/i.gojekapi.com/darkroom/gofood-indonesia/v2/images/uploads/8412ba8a-a3f5-4843-8879-20a532d7cdf9_Go-Biz_20200701_170157.jpeg\" alt=\"French Fries - Online Coffee, Kemerdekaan Timur\" style=\"max-height: 130px;\" onError=\"this.src=\\'https://www.carikulinerindonesia.com/images/notfound.png\\'\"></a><div class=\"card-body p-2\"><h2 style=\"font-weight:bold;font-size:15px;font-family:Arial, Helvetica, sans-serif;text-align:left;white-space:nowrap;text-overflow:ellipsis;overflow:hidden;\"><a href=\"https://www.carikulinerindonesia.com/online-coffee-kemerdekaan-timur_sQtOdq1qV02tqkd4q58K1g.html\" title=\"French Fries - Online Coffee, Kemerdekaan Timur\" style=\"color:#0f7ab8;\">French Fries</a></h2><div style=\"color:#000000;font-family:Arial, Helvetica, sans-serif;text-align:left;\"><h3 style=\"font-size:13px;white-space:nowrap;text-overflow:ellipsis;overflow:hidden;\">Online Coffee, Kemerdekaan Timur</h3></div><h3 class=\"card-title\" style=\"font-weight:bold;font-size:15px;font-family:Arial, Helvetica, sans-serif;color:#d5542c;text-align:left;\">Rp. 7,500</h3><br/><img src=\"https://www.carikulinerindonesia.com/images/rating5.png\" align=\"left\" width=\"65\" title=\"Rating 4.8\" alt=\"Rating 4.8\"><div style=\"clear:both\"></div><hr/><div style=\"font-family:Arial, Helvetica, sans-serif;text-align:left;\"><h3 style=\"color:#555151;font-size:13px;white-space:nowrap;text-overflow:ellipsis;overflow:hidden;\" title=\"Jl. Kemerdekaan Timur No. 24, Kesugihan, Cilacap\"><i class=\"fa fa-location-dot\"></i>\\xc2\\xa0Jl. Kemerdekaan Timur No. 24, Kesugihan, Cilacap</h3></div></div></div></div></div></div></div><p></p><div class=\"content\"><div class=\"container\"><p></p><ins class=\"adsbygoogle\" style=\"display:block\" data-ad-client=\"ca-pub-9231930293998913\" data-ad-slot=\"7959291276\" data-ad-format=\"auto\" data-full-width-responsive=\"true\"></ins><script> (adsbygoogle = window.adsbygoogle || []).push({});</script><hr/></div></div><div><div class=\"text-center bg-info\" style=\"padding-bottom:10px;\"><section><div class=\"container text-center text-md-start bg-info\" style=\"padding:10px;border-top-left-radius:10px;border-top-right-radius: 10px;\"><div class=\"row mt-4\"><div class=\"col-md-6\"><p style=\"text-align:left;font-family: Arial, Helvetica, sans-serif;padding-left:10px;color:#ffffff;\"><img src=\"https://www.carikulinerindonesia.com/images/logo.webp\" style=\"float:left;width:40px;height:40px;margin-right:10px;\">Cari Kuliner Indonesia merupakan tempat yang menyediakan info tentang berbagai macam Kuliner yang ada di Indonesia dari yang terlaris sampai termurah berdasarkan kota maupun kategori. </p></div><div class=\"col-md-3 col-lg-2 col-xl-2 mx-auto mb-4\" style=\"text-align:left;padding-left:10px;\"><p style=\"font-family: Arial, Helvetica, sans-serif;font-weight:bold;color:#ffffff;\"><a href=\"https://www.carikulinerindonesia.com/submit_resto.php\" class=\"text-reset\" title=\"Submit Resto\" target=\"_blank\"><i class=\"fa-solid fa-store\"></i>&emsp;Submit Resto</a></p><p style=\"font-family: Arial, Helvetica, sans-serif;font-weight:bold;color:#ffffff;\"><a href=\"https://www.carikulinerindonesia.com/kontak.php\" class=\"text-reset\" title=\"Kontak\"><i class=\"fa fa-address-book\"></i>&emsp;Kontak</p></a><p style=\"font-family: Arial, Helvetica, sans-serif;font-weight:bold;color:#ffffff;\"><a href=\"https://www.carikulinerindonesia.com/tentang.php\" class=\"text-reset\" title=\"Tentang\"><i class=\"fa-solid fa-circle-info\"></i>&emsp;Tentang</a></p></div><div class=\"col-md-3 col-lg-2 col-xl-2 mx-auto mb-4\" style=\"text-align:left;padding-left:10px;\"><p style=\"font-family: Arial, Helvetica, sans-serif;font-weight:bold;color:#ffffff;\"><a href=\"https://www.carikulinerindonesia.com/privacy\" class=\"text-reset\" title=\"Privacy\"><i class=\"fa-solid fa-unlock\"></i>&emsp;Privacy</a></p><p style=\"font-family: Arial, Helvetica, sans-serif;font-weight:bold;color:#ffffff;\"><a href=\"https://www.carikulinerindonesia.com/cookie-policy\" class=\"text-reset\" title=\"Cookie Policy\"><i class=\"fa-solid fa-shield\"></i>&emsp;Cookie Policy</a></p><p style=\"font-family: Arial, Helvetica, sans-serif;font-weight:bold;color:#ffffff;\"><a href=\"https://www.carikulinerindonesia.com/terms\" class=\"text-reset\" title=\"Terms of Service\"><i class=\"fa-solid fa-bars\"></i>&emsp;Terms</a></p></div></div></div></section><a href=\"https://www.facebook.com/carikulinerindonesia\" title=\"Page Facebook Cari Kuliner Indonesia\" target=\"_blank\"><img src=\"https://www.carikulinerindonesia.com/images/facebookicon.png\" width=\"40\" height=\"40\" alt=\"facebook\"></a>\\xc2\\xa0\\xc2\\xa0<a href=\"https://twitter.com/ckidotcom\"><img src=\"https://www.carikulinerindonesia.com/images/twittericon.png\" width=\"40\" height=\"40\" alt=\"twitter\"></a>\\xc2\\xa0\\xc2\\xa0<a href=\"https://id.pinterest.com/carikulinerindonesia/\"><img src=\"https://www.carikulinerindonesia.com/images/pinterest.png\" width=\"40\" height=\"40\" alt=\"pinterest\"></a></div><div class=\"text-center p-3\" style=\"background-color:#0f7ab8;\"><span style=\"color:#ffffff;font-family: Arial, Helvetica, sans-serif;font-weight:bold;\">Copyright &copy; 2023 </span><a href=\"https://www.carikulinerindonesia.com/\" title=\"Cari Kuliner Indonesia\" style=\"color:#ffffff;font-family: Arial, Helvetica, sans-serif;font-weight:bold;\">Cari Kuliner Indonesia</a><span style=\"color:#ffffff;font-family: Arial, Helvetica, sans-serif;font-weight:bold;\">. All rights reserved.</span></div></div><script src=\"https://cdnjs.cloudflare.com/ajax/libs/jquery/3.6.1/jquery.min.js\"></script><script src=\"https://cdnjs.cloudflare.com/ajax/libs/bootstrap/4.6.0/js/bootstrap.min.js\"></script><script src=\"https://cdnjs.cloudflare.com/ajax/libs/admin-lte/3.1.0/js/adminlte.min.js\"></script></div></div></body></html>'"
            ]
          },
          "metadata": {},
          "execution_count": 11
        }
      ]
    },
    {
      "cell_type": "code",
      "source": [
        "\n",
        "# Mengecek apakah permintaan berhasil\n",
        "if response.status_code == 200:\n",
        "  soup = BeautifulSoup(response.content, 'html.parser')\n",
        "\n"
      ],
      "metadata": {
        "id": "ZyYnTmPzzZ-1"
      },
      "execution_count": 12,
      "outputs": []
    },
    {
      "cell_type": "code",
      "source": [
        "soup"
      ],
      "metadata": {
        "id": "j-R0XtQr2S_5"
      },
      "execution_count": null,
      "outputs": []
    },
    {
      "cell_type": "code",
      "source": [
        "#Mencari semua elemen div dengan style \"padding:3px;\"\n",
        "div_elements = soup.find_all('div', style='padding:3px;')\n",
        "\n",
        "\n"
      ],
      "metadata": {
        "id": "TCSwP5X82LuD"
      },
      "execution_count": 14,
      "outputs": []
    },
    {
      "cell_type": "code",
      "source": [
        "div_elements"
      ],
      "metadata": {
        "colab": {
          "base_uri": "https://localhost:8080/"
        },
        "id": "SO3nudHu2Wvv",
        "outputId": "e8745c69-9e83-4b4c-a85a-dbb6d44ee4fa"
      },
      "execution_count": 15,
      "outputs": [
        {
          "output_type": "execute_result",
          "data": {
            "text/plain": [
              "[<div style=\"padding:3px;\"><a href=\"https://www.carikulinerindonesia.com/barat/\" title=\"Masakan Western\"><div class=\"card-inner p-3 d-flex flex-column align-items-center\"><img alt=\"Masakan Western\" height=\"40\" src=\"https://www.carikulinerindonesia.com/images/barat.webp\" width=\"40\"/></div></a></div>,\n",
              " <div style=\"padding:3px;\"><a href=\"https://www.carikulinerindonesia.com/chinese/\" title=\"Masakan Chinese\"><div class=\"card-inner p-3 d-flex flex-column align-items-center\"><img alt=\"Masakan Chinese\" height=\"40\" src=\"https://www.carikulinerindonesia.com/images/chinese.webp\" width=\"40\"/></div></a></div>,\n",
              " <div style=\"padding:3px;\"><a href=\"https://www.carikulinerindonesia.com/fastfood/\" title=\"Cepat Saji\"><div class=\"card-inner p-3 d-flex flex-column align-items-center\"><img alt=\"Fastfood\" height=\"40\" src=\"https://www.carikulinerindonesia.com/images/fastfood.webp\" width=\"40\"/></div></a></div>,\n",
              " <div style=\"padding:3px;\"><a href=\"https://www.carikulinerindonesia.com/india/\" title=\"Masakan India\"><div class=\"card-inner p-3 d-flex flex-column align-items-center\"><img alt=\"Masakan India\" height=\"40\" src=\"https://www.carikulinerindonesia.com/images/india.webp\" width=\"40\"/></div></a></div>,\n",
              " <div style=\"padding:3px;\"><a href=\"https://www.carikulinerindonesia.com/jajanan/\" title=\"Jajanan\"><div class=\"card-inner p-3 d-flex flex-column align-items-center\"><img alt=\"Jajanan\" height=\"40\" src=\"https://www.carikulinerindonesia.com/images/jajanan.webp\" width=\"40\"/></div></a></div>,\n",
              " <div style=\"padding:3px;\"><a href=\"https://www.carikulinerindonesia.com/jepang/\" title=\"Masakan Jepang\"><div class=\"card-inner p-3 d-flex flex-column align-items-center\"><img alt=\"Masakan Jepang\" height=\"40\" src=\"https://www.carikulinerindonesia.com/images/jepang.webp\" width=\"40\"/></div></a></div>,\n",
              " <div style=\"padding:3px;\"><a href=\"https://www.carikulinerindonesia.com/korea/\" title=\"Masakan Korea\"><div class=\"card-inner p-3 d-flex flex-column align-items-center\"><img alt=\"Masakan Korea\" height=\"40\" src=\"https://www.carikulinerindonesia.com/images/korea.webp\" width=\"40\"/></div></a></div>,\n",
              " <div style=\"padding:3px;\"><a href=\"https://www.carikulinerindonesia.com/minuman/\" title=\"Minuman\"><div class=\"card-inner p-3 d-flex flex-column align-items-center\"><img alt=\"Minuman\" height=\"40\" src=\"https://www.carikulinerindonesia.com/images/minuman.webp\" width=\"40\"/></div></a></div>,\n",
              " <div style=\"padding:3px;\"><a href=\"https://www.carikulinerindonesia.com/roti/\" title=\"Roti\"><div class=\"card-inner p-3 d-flex flex-column align-items-center\"><img alt=\"Roti\" height=\"40\" src=\"https://www.carikulinerindonesia.com/images/roti.webp\" width=\"40\"/></div></a></div>,\n",
              " <div style=\"padding:3px;\"><a href=\"https://www.carikulinerindonesia.com/seafood/\" title=\"Seafood\"><div class=\"card-inner p-3 d-flex flex-column align-items-center\"><img alt=\"Seafood\" height=\"40\" src=\"https://www.carikulinerindonesia.com/images/seafood.webp\" width=\"40\"/></div></a></div>,\n",
              " <div style=\"padding:3px;\"><a href=\"https://www.carikulinerindonesia.com/thailand/\" title=\"Masakan Thailand\"><div class=\"card-inner p-3 d-flex flex-column align-items-center\"><img alt=\"Masakan Thailand\" height=\"40\" src=\"https://www.carikulinerindonesia.com/images/thailand.webp\" width=\"40\"/></div></a></div>,\n",
              " <div style=\"padding:3px;\"><a href=\"https://www.carikulinerindonesia.com/timur-tengah/\" title=\"Masakan Timur Tengah\"><div class=\"card-inner p-3 d-flex flex-column align-items-center\"><img alt=\"Masakan Timur Tengah\" height=\"40\" src=\"https://www.carikulinerindonesia.com/images/timur-tengah.webp\" width=\"40\"/></div></a></div>]"
            ]
          },
          "metadata": {},
          "execution_count": 15
        }
      ]
    },
    {
      "cell_type": "code",
      "source": [
        "# Melakukan iterasi untuk setiap elemen div\n",
        "for div in div_elements:\n",
        "    # Mendapatkan atribut href dari elemen <a>\n",
        "    link = div.find('a')['href']\n",
        "\n",
        "    # Mendapatkan teks dari atribut title pada elemen <a>\n",
        "    title = div.find('a')['title']\n",
        "\n",
        "    # Mendapatkan URL gambar dari elemen <img>\n",
        "    img_url = div.find('img')['src']\n",
        "\n",
        "    print('Title:', title)\n",
        "    print('Link:', link)\n",
        "    print('Image URL:', img_url)\n",
        "    print('-' * 20)"
      ],
      "metadata": {
        "colab": {
          "base_uri": "https://localhost:8080/"
        },
        "id": "VxUbpehN2QP9",
        "outputId": "ea9c3c7a-c9e5-483a-e149-70ff7e77c2f6"
      },
      "execution_count": 16,
      "outputs": [
        {
          "output_type": "stream",
          "name": "stdout",
          "text": [
            "Title: Masakan Western\n",
            "Link: https://www.carikulinerindonesia.com/barat/\n",
            "Image URL: https://www.carikulinerindonesia.com/images/barat.webp\n",
            "--------------------\n",
            "Title: Masakan Chinese\n",
            "Link: https://www.carikulinerindonesia.com/chinese/\n",
            "Image URL: https://www.carikulinerindonesia.com/images/chinese.webp\n",
            "--------------------\n",
            "Title: Cepat Saji\n",
            "Link: https://www.carikulinerindonesia.com/fastfood/\n",
            "Image URL: https://www.carikulinerindonesia.com/images/fastfood.webp\n",
            "--------------------\n",
            "Title: Masakan India\n",
            "Link: https://www.carikulinerindonesia.com/india/\n",
            "Image URL: https://www.carikulinerindonesia.com/images/india.webp\n",
            "--------------------\n",
            "Title: Jajanan\n",
            "Link: https://www.carikulinerindonesia.com/jajanan/\n",
            "Image URL: https://www.carikulinerindonesia.com/images/jajanan.webp\n",
            "--------------------\n",
            "Title: Masakan Jepang\n",
            "Link: https://www.carikulinerindonesia.com/jepang/\n",
            "Image URL: https://www.carikulinerindonesia.com/images/jepang.webp\n",
            "--------------------\n",
            "Title: Masakan Korea\n",
            "Link: https://www.carikulinerindonesia.com/korea/\n",
            "Image URL: https://www.carikulinerindonesia.com/images/korea.webp\n",
            "--------------------\n",
            "Title: Minuman\n",
            "Link: https://www.carikulinerindonesia.com/minuman/\n",
            "Image URL: https://www.carikulinerindonesia.com/images/minuman.webp\n",
            "--------------------\n",
            "Title: Roti\n",
            "Link: https://www.carikulinerindonesia.com/roti/\n",
            "Image URL: https://www.carikulinerindonesia.com/images/roti.webp\n",
            "--------------------\n",
            "Title: Seafood\n",
            "Link: https://www.carikulinerindonesia.com/seafood/\n",
            "Image URL: https://www.carikulinerindonesia.com/images/seafood.webp\n",
            "--------------------\n",
            "Title: Masakan Thailand\n",
            "Link: https://www.carikulinerindonesia.com/thailand/\n",
            "Image URL: https://www.carikulinerindonesia.com/images/thailand.webp\n",
            "--------------------\n",
            "Title: Masakan Timur Tengah\n",
            "Link: https://www.carikulinerindonesia.com/timur-tengah/\n",
            "Image URL: https://www.carikulinerindonesia.com/images/timur-tengah.webp\n",
            "--------------------\n"
          ]
        }
      ]
    },
    {
      "cell_type": "code",
      "source": [
        "response = scraper.get(\" https://www.carikulinerindonesia.com/barat/\")"
      ],
      "metadata": {
        "id": "m1QqaphW2lpV"
      },
      "execution_count": 138,
      "outputs": []
    },
    {
      "cell_type": "code",
      "source": [
        "if response.status_code == 200:\n",
        "  soup = BeautifulSoup(response.content, 'html.parser')"
      ],
      "metadata": {
        "id": "cZULX57eI19E"
      },
      "execution_count": 139,
      "outputs": []
    },
    {
      "cell_type": "code",
      "source": [
        "card_elements = soup.find_all('div', class_='card')\n",
        "\n",
        "\n",
        "\n",
        ""
      ],
      "metadata": {
        "id": "FweU2sVj3HXy"
      },
      "execution_count": 140,
      "outputs": []
    },
    {
      "cell_type": "code",
      "source": [
        "card_elements[2]"
      ],
      "metadata": {
        "colab": {
          "base_uri": "https://localhost:8080/"
        },
        "id": "Eg3V2nST68w2",
        "outputId": "e6ec7679-39a4-4730-90db-8604736308c8"
      },
      "execution_count": 141,
      "outputs": [
        {
          "output_type": "execute_result",
          "data": {
            "text/plain": [
              "<div class=\"card\"><a href=\"https://www.carikulinerindonesia.com/pisang-kriukkk-cokelat-pasar-baru_544163456.html\" title=\"Chicken Steak - Pisang Kriukkk Cokelat, Pasar Baru\"><img alt=\"Chicken Steak - Pisang Kriukkk Cokelat, Pasar Baru\" class=\"card-img-top\" onerror=\"this.src='https://www.carikulinerindonesia.com/images/notfound.png'\" src=\"https://i0.wp.com/i.gojekapi.com/darkroom/gofood-indonesia/v2/images/uploads/401824b7-743f-497b-b107-b3fcfad24337_Go-Biz_20221022_173648.jpeg\" style=\"max-height: 130px;\"/></a><div class=\"card-body p-2\"><h2 style=\"font-weight:bold;font-size:15px;font-family:Arial, Helvetica, sans-serif;text-align:left;white-space:nowrap;text-overflow:ellipsis;overflow:hidden;\"><a href=\"https://www.carikulinerindonesia.com/pisang-kriukkk-cokelat-pasar-baru_544163456.html\" style=\"color:#0f7ab8;\" title=\"Chicken Steak - Pisang Kriukkk Cokelat, Pasar Baru\">Chicken Steak</a></h2><div style=\"color:#000000;font-family:Arial, Helvetica, sans-serif;text-align:left;\"><h3 style=\"font-size:13px;white-space:nowrap;text-overflow:ellipsis;overflow:hidden;\">Pisang Kriukkk Cokelat, Pasar Baru</h3></div><h3 class=\"card-title\" style=\"font-weight:bold;font-size:15px;font-family:Arial, Helvetica, sans-serif;color:#d5542c;text-align:left;\">Rp. 28,000</h3><br/><img align=\"left\" alt=\"Rating 4.7\" src=\"https://www.carikulinerindonesia.com/images/rating5.png\" title=\"Rating 4.7\" width=\"65\"/><div style=\"clear:both\"></div><hr/><div style=\"font-family:Arial, Helvetica, sans-serif;text-align:left;\"><h3 style=\"color:#555151;font-size:13px;white-space:nowrap;text-overflow:ellipsis;overflow:hidden;\" title=\"Jl Dr.Moh No 14A Kel, Binua G Kampung Dalam, Kec, Pauh, Kota Padang, Sumatra Barat 25176, Indoneaia\"><i class=\"fa fa-location-dot\"></i> Jl Dr.Moh No 14A Kel, Binua G Kampung Dalam, Kec, Pauh, Kota Padang, Sumatra Barat 25176, Indoneaia</h3></div></div></div>"
            ]
          },
          "metadata": {},
          "execution_count": 141
        }
      ]
    },
    {
      "cell_type": "code",
      "source": [
        "card_elements[2].find('h3', class_='card-title').text.strip()"
      ],
      "metadata": {
        "colab": {
          "base_uri": "https://localhost:8080/",
          "height": 36
        },
        "id": "r_PmgplZDdGh",
        "outputId": "6a3dcace-a680-49ca-8f86-dfd29018b9b4"
      },
      "execution_count": 131,
      "outputs": [
        {
          "output_type": "execute_result",
          "data": {
            "text/plain": [
              "'Rp. 13,000'"
            ],
            "application/vnd.google.colaboratory.intrinsic+json": {
              "type": "string"
            }
          },
          "metadata": {},
          "execution_count": 131
        }
      ]
    },
    {
      "cell_type": "code",
      "source": [
        "# Melakukan iterasi untuk setiap elemen card\n",
        "for card in card_elements:\n",
        "    try :\n",
        "        #card\n",
        "        # Mendapatkan atribut href dari elemen <a>\n",
        "        link = card.find('a')['href']\n",
        "\n",
        "        # Mendapatkan teks dari atribut title pada elemen <a>\n",
        "        title = card.find('a')['title']\n",
        "\n",
        "        # Mendapatkan URL gambar dari elemen <img>\n",
        "        img_url = card.find('img')['src']\n",
        "        #price = card.find('h3', class_='card-title').text.strip()\n",
        "        #address = card.find('h3', style='color:#555151').text.strip()\n",
        "\n",
        "        print('Title:', title)\n",
        "        print('Link:', link)\n",
        "        print('Image URL:', img_url)\n",
        "        #print('Price:', price)\n",
        "        #print('Address:', address)\n",
        "        print('-' * 20)\n",
        "    except Exception as e:\n",
        "    # Handle exceptions, such as network errors or parsing issues\n",
        "      print(\"An error occurred:\", e)"
      ],
      "metadata": {
        "colab": {
          "base_uri": "https://localhost:8080/"
        },
        "id": "4b8fbTKV-dY_",
        "outputId": "778f87d5-9c79-484f-c3fb-c20edd898983"
      },
      "execution_count": 143,
      "outputs": [
        {
          "output_type": "stream",
          "name": "stdout",
          "text": [
            "Title: Masakan Western\n",
            "Link: https://www.carikulinerindonesia.com/barat/\n",
            "Image URL: https://www.carikulinerindonesia.com/images/barat.webp\n",
            "--------------------\n",
            "An error occurred: 'NoneType' object is not subscriptable\n",
            "Title: Chicken Steak - Pisang Kriukkk Cokelat, Pasar Baru\n",
            "Link: https://www.carikulinerindonesia.com/pisang-kriukkk-cokelat-pasar-baru_544163456.html\n",
            "Image URL: https://i0.wp.com/i.gojekapi.com/darkroom/gofood-indonesia/v2/images/uploads/401824b7-743f-497b-b107-b3fcfad24337_Go-Biz_20221022_173648.jpeg\n",
            "--------------------\n",
            "Title: Burger Reguler - Lazatto Chicken & Burger Pagardrum, Kota Baru\n",
            "Link: https://www.carikulinerindonesia.com/lazatto-chicken-burger-pagardrum-kota-baru_543222564.html\n",
            "Image URL: https://i0.wp.com/i.gojekapi.com/darkroom/gofood-indonesia/v2/images/uploads/0a479d39-66cd-46bb-a21c-b1ec2e61c283_menu-item-image_1648795510770.jpg\n",
            "--------------------\n",
            "Title: Burger Cheese - Lazatto Chicken & Burger Pagardrum, Kota Baru\n",
            "Link: https://www.carikulinerindonesia.com/lazatto-chicken-burger-pagardrum-kota-baru_543222564.html\n",
            "Image URL: https://i0.wp.com/i.gojekapi.com/darkroom/gofood-indonesia/v2/images/uploads/a3592df7-b414-46f4-b2cf-18bd0d9d7d16_menu-item-image_1648795518424.jpg\n",
            "--------------------\n",
            "Title: Burger Double Beef - Lazatto Chicken & Burger Pagardrum, Kota Baru\n",
            "Link: https://www.carikulinerindonesia.com/lazatto-chicken-burger-pagardrum-kota-baru_543222564.html\n",
            "Image URL: https://i0.wp.com/i.gojekapi.com/darkroom/gofood-indonesia/v2/images/uploads/ec00b82d-244c-4722-997a-79ee70536201_menu-item-image_1648795527306.jpg\n",
            "--------------------\n",
            "Title: Burger Premium Chees - Lazatto Chicken & Burger Pagardrum, Kota Baru\n",
            "Link: https://www.carikulinerindonesia.com/lazatto-chicken-burger-pagardrum-kota-baru_543222564.html\n",
            "Image URL: https://i0.wp.com/i.gojekapi.com/darkroom/gofood-indonesia/v2/images/uploads/3456b57c-f9de-4b08-8c58-af515112e528_menu-item-image_1648795535266.jpg\n",
            "--------------------\n",
            "Title: Burger Hamer - Lazatto Chicken & Burger Pagardrum, Kota Baru\n",
            "Link: https://www.carikulinerindonesia.com/lazatto-chicken-burger-pagardrum-kota-baru_543222564.html\n",
            "Image URL: https://i0.wp.com/i.gojekapi.com/darkroom/gofood-indonesia/v2/images/uploads/7593a41e-a793-470e-80e4-86ac3179bd13_menu-item-image_1648795502620.jpg\n",
            "--------------------\n",
            "Title: Spaghetti - Lazatto Chicken & Burger Pagardrum, Kota Baru\n",
            "Link: https://www.carikulinerindonesia.com/lazatto-chicken-burger-pagardrum-kota-baru_543222564.html\n",
            "Image URL: https://i0.wp.com/i.gojekapi.com/darkroom/gofood-indonesia/v2/images/uploads/cb85cc18-1bba-4a93-b61d-9ad892afc9f7_menu-item-image_1649651530157.jpg\n",
            "--------------------\n",
            "Title: Hot Dog - Lazatto Chicken & Burger Pagardrum, Kota Baru\n",
            "Link: https://www.carikulinerindonesia.com/lazatto-chicken-burger-pagardrum-kota-baru_543222564.html\n",
            "Image URL: https://i0.wp.com/i.gojekapi.com/darkroom/gofood-indonesia/v2/images/uploads/17351bf8-7f89-4140-a0c7-82a8b55a762a_menu-item-image_1648795673352.jpg\n",
            "--------------------\n",
            "Title: Saikoro Steak - Sushi Tei, Margo City\n",
            "Link: https://www.carikulinerindonesia.com/sushi-tei-margo-city_Z0PIbpE6VxqHsUBsiQKg.html\n",
            "Image URL: https://i0.wp.com/i.gojekapi.com/darkroom/gofood-indonesia/v2/images/uploads/dc8f010d-a8b2-432b-bafc-3a335c42603f_9890fd1c-9f9b-413c-bd6d-21572aa1df22_master-menu-item-image_1588723170280.jpg\n",
            "--------------------\n",
            "Title: Saikoro Steak - Sushi Tei, Margo City\n",
            "Link: https://www.carikulinerindonesia.com/sushi-tei-margo-city_Z0PIbpE6VxqHsUBsiQKg.html\n",
            "Image URL: https://i0.wp.com/i.gojekapi.com/darkroom/gofood-indonesia/v2/images/uploads/dc8f010d-a8b2-432b-bafc-3a335c42603f_9890fd1c-9f9b-413c-bd6d-21572aa1df22_master-menu-item-image_1588723170280.jpg\n",
            "--------------------\n",
            "Title: Gekkikara Cheese Saikoro Steak - Sushi Tei, Margo City\n",
            "Link: https://www.carikulinerindonesia.com/sushi-tei-margo-city_Z0PIbpE6VxqHsUBsiQKg.html\n",
            "Image URL: https://i0.wp.com/i.gojekapi.com/darkroom/gofood-indonesia/v2/images/uploads/68a9a1af-46cf-40f1-ac93-d6e761078a57_menu-item-image_1677563508741.jpg\n",
            "--------------------\n",
            "Title: Gekkikara Cheese Saikoro Steak - Sushi Tei, Margo City\n",
            "Link: https://www.carikulinerindonesia.com/sushi-tei-margo-city_Z0PIbpE6VxqHsUBsiQKg.html\n",
            "Image URL: https://i0.wp.com/i.gojekapi.com/darkroom/gofood-indonesia/v2/images/uploads/68a9a1af-46cf-40f1-ac93-d6e761078a57_menu-item-image_1677563508741.jpg\n",
            "--------------------\n",
            "Title: French Fries - Es Masuk Gajahan\n",
            "Link: https://www.carikulinerindonesia.com/es-masuk-gajahan_542588494.html\n",
            "Image URL: https://i0.wp.com/i.gojekapi.com/darkroom/gofood-indonesia/v2/images/uploads/ad91e2e6-c9aa-4d7f-b660-4da63e05ed6d_c8142a2b-e082-4ca0-8f90-83ae221360ad_file20190508-22379-10errkw.jpeg\n",
            "--------------------\n",
            "Title: Burger Daging Sapi - Roti & Pisang Bakar, Pisang Keju Barokah\n",
            "Link: https://www.carikulinerindonesia.com/roti-pisang-bakar-pisang-keju-barokah_zk9zToCWdewLEQjuHUVIw.html\n",
            "Image URL: https://i0.wp.com/i.gojekapi.com/darkroom/gofood-indonesia/v2/images/uploads/bf326748-3fa4-460a-9c49-076ebbe6ca56_3dc2a617-8fa9-40e1-9770-60b5b663ad54_Go-Biz_20190926_212549.jpeg\n",
            "--------------------\n",
            "Title: Burger Ayam - Roti & Pisang Bakar, Pisang Keju Barokah\n",
            "Link: https://www.carikulinerindonesia.com/roti-pisang-bakar-pisang-keju-barokah_zk9zToCWdewLEQjuHUVIw.html\n",
            "Image URL: https://i0.wp.com/i.gojekapi.com/darkroom/gofood-indonesia/v2/images/uploads/4e43ed09-0500-4d14-b925-32f3f1c6b715_c86d676d-77b2-4bc2-9d26-71b5b8e5403e_Go-Biz_20190926_212628.jpeg\n",
            "--------------------\n",
            "Title: Burger Telur - Roti & Pisang Bakar, Pisang Keju Barokah\n",
            "Link: https://www.carikulinerindonesia.com/roti-pisang-bakar-pisang-keju-barokah_zk9zToCWdewLEQjuHUVIw.html\n",
            "Image URL: https://i0.wp.com/i.gojekapi.com/darkroom/gofood-indonesia/v2/images/uploads/86997adc-4e01-428c-ab6f-949e07b81ddc_3383071f-545e-4ec1-883f-54bbbb046439_Go-Biz_20190926_212713.jpeg\n",
            "--------------------\n",
            "Title: Burger Sosis - Roti & Pisang Bakar, Pisang Keju Barokah\n",
            "Link: https://www.carikulinerindonesia.com/roti-pisang-bakar-pisang-keju-barokah_zk9zToCWdewLEQjuHUVIw.html\n",
            "Image URL: https://i0.wp.com/i.gojekapi.com/darkroom/gofood-indonesia/v2/images/uploads/8de4b7c2-d3d1-4f16-bb33-ae118b9a9972_9e4a8a46-6aed-4934-998e-60f676101763_Go-Biz_20190926_212802.jpeg\n",
            "--------------------\n",
            "Title: Burger Telur Sosis - Roti & Pisang Bakar, Pisang Keju Barokah\n",
            "Link: https://www.carikulinerindonesia.com/roti-pisang-bakar-pisang-keju-barokah_zk9zToCWdewLEQjuHUVIw.html\n",
            "Image URL: https://i0.wp.com/i.gojekapi.com/darkroom/gofood-indonesia/v2/images/uploads/95517f1f-6e6c-48bd-a7e0-f61cbdaf1f0d_a483b0ae-ea1d-4480-be08-69d7140fe1c2_Go-Biz_20190926_212839.jpeg\n",
            "--------------------\n",
            "Title: Burger Ayam Telur - Roti & Pisang Bakar, Pisang Keju Barokah\n",
            "Link: https://www.carikulinerindonesia.com/roti-pisang-bakar-pisang-keju-barokah_zk9zToCWdewLEQjuHUVIw.html\n",
            "Image URL: https://i0.wp.com/i.gojekapi.com/darkroom/gofood-indonesia/v2/images/uploads/b9fa9d10-c395-461e-a5bb-d477939312e0_6e0523cc-7852-4499-91a2-74920034e5da_Go-Biz_20190928_100155.jpeg\n",
            "--------------------\n",
            "Title: Burger Sosis Ayam - Roti & Pisang Bakar, Pisang Keju Barokah\n",
            "Link: https://www.carikulinerindonesia.com/roti-pisang-bakar-pisang-keju-barokah_zk9zToCWdewLEQjuHUVIw.html\n",
            "Image URL: https://i0.wp.com/i.gojekapi.com/darkroom/gofood-indonesia/v2/images/uploads/23defc2c-db2c-4f0e-acf5-051b3cc1d247_e5c7579e-8b21-4e2c-a1ec-577cdbdfb91f_Go-Biz_20190928_100223.jpeg\n",
            "--------------------\n",
            "Title: Burger Ayam Keju - Roti & Pisang Bakar, Pisang Keju Barokah\n",
            "Link: https://www.carikulinerindonesia.com/roti-pisang-bakar-pisang-keju-barokah_zk9zToCWdewLEQjuHUVIw.html\n",
            "Image URL: https://i0.wp.com/i.gojekapi.com/darkroom/gofood-indonesia/v2/images/uploads/c4898737-f2bc-4ac1-a4a0-c41c4ae422b0_Go-Biz_20200808_132838.jpeg\n",
            "--------------------\n",
            "Title: Burger Daging Sapi Keju - Roti & Pisang Bakar, Pisang Keju Barokah\n",
            "Link: https://www.carikulinerindonesia.com/roti-pisang-bakar-pisang-keju-barokah_zk9zToCWdewLEQjuHUVIw.html\n",
            "Image URL: https://i0.wp.com/i.gojekapi.com/darkroom/gofood-indonesia/v2/images/uploads/7fd2720f-aa29-41de-97d4-4c648484bfc7_Go-Biz_20200808_132916.jpeg\n",
            "--------------------\n",
            "Title: Burger Telur Keju - Roti & Pisang Bakar, Pisang Keju Barokah\n",
            "Link: https://www.carikulinerindonesia.com/roti-pisang-bakar-pisang-keju-barokah_zk9zToCWdewLEQjuHUVIw.html\n",
            "Image URL: https://i0.wp.com/i.gojekapi.com/darkroom/gofood-indonesia/v2/images/uploads/d048fe4f-c490-41b7-8c3b-975871012801_Go-Biz_20200808_133010.jpeg\n",
            "--------------------\n",
            "Title: French Fries Crinkle - Rocky Rooster, Benhil\n",
            "Link: https://www.carikulinerindonesia.com/rocky-rooster-benhil_9nyNX4x4WXO3mQN9nWXEQ.html\n",
            "Image URL: https://i0.wp.com/i.gojekapi.com/darkroom/gofood-indonesia/v2/images/uploads/a40d7634-27d3-46b0-a387-d40753467089_Go-Biz_20211005_161605.jpeg\n",
            "--------------------\n",
            "An error occurred: 'NoneType' object is not subscriptable\n"
          ]
        }
      ]
    },
    {
      "cell_type": "code",
      "source": [
        "card"
      ],
      "metadata": {
        "id": "K58yTcbS-76-"
      },
      "execution_count": null,
      "outputs": []
    },
    {
      "cell_type": "code",
      "source": [
        "address = card.find('h3', class_='card-title').text.strip()"
      ],
      "metadata": {
        "colab": {
          "base_uri": "https://localhost:8080/",
          "height": 175
        },
        "id": "1YiYeDZb62sD",
        "outputId": "6ff3f77f-bda5-4bfd-bd95-e5d9214f419c"
      },
      "execution_count": 86,
      "outputs": [
        {
          "output_type": "error",
          "ename": "AttributeError",
          "evalue": "ignored",
          "traceback": [
            "\u001b[0;31m---------------------------------------------------------------------------\u001b[0m",
            "\u001b[0;31mAttributeError\u001b[0m                            Traceback (most recent call last)",
            "\u001b[0;32m<ipython-input-86-c918be8a1595>\u001b[0m in \u001b[0;36m<cell line: 1>\u001b[0;34m()\u001b[0m\n\u001b[0;32m----> 1\u001b[0;31m \u001b[0maddress\u001b[0m \u001b[0;34m=\u001b[0m \u001b[0mcard\u001b[0m\u001b[0;34m.\u001b[0m\u001b[0mfind\u001b[0m\u001b[0;34m(\u001b[0m\u001b[0;34m'h3'\u001b[0m\u001b[0;34m,\u001b[0m \u001b[0mclass_\u001b[0m\u001b[0;34m=\u001b[0m\u001b[0;34m'card-title'\u001b[0m\u001b[0;34m)\u001b[0m\u001b[0;34m.\u001b[0m\u001b[0mtext\u001b[0m\u001b[0;34m.\u001b[0m\u001b[0mstrip\u001b[0m\u001b[0;34m(\u001b[0m\u001b[0;34m)\u001b[0m\u001b[0;34m\u001b[0m\u001b[0;34m\u001b[0m\u001b[0m\n\u001b[0m",
            "\u001b[0;31mAttributeError\u001b[0m: 'NoneType' object has no attribute 'text'"
          ]
        }
      ]
    },
    {
      "cell_type": "code",
      "source": [
        "address"
      ],
      "metadata": {
        "colab": {
          "base_uri": "https://localhost:8080/",
          "height": 36
        },
        "id": "23iGUvjk69v2",
        "outputId": "e4bf17c9-12ea-454c-a945-24a0b8ade95f"
      },
      "execution_count": 69,
      "outputs": [
        {
          "output_type": "execute_result",
          "data": {
            "text/plain": [
              "'Rp. 7,500'"
            ],
            "application/vnd.google.colaboratory.intrinsic+json": {
              "type": "string"
            }
          },
          "metadata": {},
          "execution_count": 69
        }
      ]
    },
    {
      "cell_type": "code",
      "source": [
        "# Mendapatkan harga dari elemen h3 dengan class \"card-title\"\n",
        "\n",
        "\n",
        ""
      ],
      "metadata": {
        "id": "CXIU48GF6uhO"
      },
      "execution_count": null,
      "outputs": []
    },
    {
      "cell_type": "code",
      "source": [
        "# Mendapatkan alamat dari elemen h3 dengan style \"color:#555151\"\n",
        "    #\n",
        "\n",
        ""
      ],
      "metadata": {
        "id": "f3A9eqsk6yfu"
      },
      "execution_count": null,
      "outputs": []
    }
  ]
}